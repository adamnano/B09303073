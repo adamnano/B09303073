{
 "cells": [
  {
   "cell_type": "code",
   "execution_count": 1,
   "metadata": {},
   "outputs": [],
   "source": [
    "import dash\n",
    "from dash import html, dcc, Input, Output, State\n",
    "import requests\n",
    "from bs4 import BeautifulSoup\n",
    "import pandas as pd\n",
    "from datetime import datetime\n",
    "import numpy as np\n",
    "import plotly.express as px"
   ]
  },
  {
   "cell_type": "code",
   "execution_count": 4,
   "metadata": {},
   "outputs": [
    {
     "name": "stdout",
     "output_type": "stream",
     "text": [
      "                                                Name  \\\n",
      "0                      Scandic Berlin Kurfürstendamm   \n",
      "1  Hampton by Hilton Berlin City Centre Alexander...   \n",
      "2  Hotel Berlin, Berlin, a member of Radisson Ind...   \n",
      "3                Schoenhouse Avenue - Digital Access   \n",
      "4                    Motel One Berlin-Alexanderplatz   \n",
      "\n",
      "                             Location       Price Rating            Distance  \\\n",
      "0  Charlottenburg-Wilmersdorf, Berlin  TWD 22,426    8.1  3.2 km from centre   \n",
      "1                       Mitte, Berlin  TWD 20,339    8.1    3 km from centre   \n",
      "2                       Mitte, Berlin  TWD 16,441    7.9  2.1 km from centre   \n",
      "3             Prenzlauer Berg, Berlin  TWD 22,742    8.2  2.7 km from centre   \n",
      "4                       Mitte, Berlin  TWD 18,414    8.7  2.4 km from centre   \n",
      "\n",
      "     Comment  \n",
      "0  Very good  \n",
      "1  Very good  \n",
      "2       Good  \n",
      "3  Very good  \n",
      "4   Fabulous  \n"
     ]
    }
   ],
   "source": [
    "def fetch_hotel_data(city, checkin_date, checkout_date):\n",
    "    checkin_date = datetime.strptime(checkin_date, \"%Y-%m-%d\").strftime(\"%Y-%m-%d\")\n",
    "    checkout_date = datetime.strptime(checkout_date, \"%Y-%m-%d\").strftime(\"%Y-%m-%d\")\n",
    "\n",
    "    headers = {\n",
    "        'User-Agent': 'Mozilla/5.0 (Macintosh; Intel Mac OS X 10_15_7) AppleWebKit/537.36 (KHTML, like Gecko) Chrome/114.0.0.0 Safari/537.36',\n",
    "        'Accept-Language': 'en-US, en;q=0.5'\n",
    "    }\n",
    "\n",
    "    hotels = []\n",
    "\n",
    "    # Loop through first 4 pages\n",
    "    for page in range(4):\n",
    "        offset = page * 25\n",
    "        base_url = \"https://www.booking.com/searchresults.en-gb.html?ss={}&checkin={}&checkout={}&offset={}\"\n",
    "\n",
    "        url = base_url.format(city, checkin_date, checkout_date, offset)\n",
    "        response = requests.get(url, headers=headers)\n",
    "        soup = BeautifulSoup(response.content, 'html.parser')\n",
    "\n",
    "        information = soup.find('h1', class_='f6431b446c d5f78961c3').get_text(strip=True) if soup.find('h1', class_='f6431b446c d5f78961c3') else \"No Information\"\n",
    "        if information == \"No Information\":\n",
    "            break\n",
    "\n",
    "        hotel_boxes = soup.find_all(\"div\", class_=\"c82435a4b8 a178069f51 a6ae3c2b40 a18aeea94d d794b7a0f7 f53e278e95 c6710787a4\")\n",
    "        \n",
    "        if not hotel_boxes:\n",
    "            break\n",
    "\n",
    "        for hotel_box in hotel_boxes:\n",
    "            name = hotel_box.find('div', class_='f6431b446c a15b38c233').get_text(strip=True) if hotel_box.find('div', class_='f6431b446c a15b38c233') else \"No Name\"\n",
    "            location = hotel_box.find('span', class_='aee5343fdb def9bc142a').get_text(strip=True) if hotel_box.find('span', class_='aee5343fdb def9bc142a') else \"No Location\"\n",
    "            price = hotel_box.find('span', class_=\"f6431b446c fbfd7c1165 e84eb96b1f\").get_text(strip=True) if hotel_box.find('span', class_=\"f6431b446c fbfd7c1165 e84eb96b1f\") else \"No Price\"\n",
    "            rating = hotel_box.find(\"div\", class_=\"a3b8729ab1 d86cee9b25\").get_text(strip=True) if hotel_box.find(\"div\", class_=\"a3b8729ab1 d86cee9b25\") else \"No Rating\"\n",
    "            distance = hotel_box.find(\"span\", {\"data-testid\": \"distance\"}).get_text(strip=True) if hotel_box.find(\"span\", {\"data-testid\": \"distance\"}) else \"No Distance\"\n",
    "            comment = hotel_box.find('div', class_='a3b8729ab1 e6208ee469 cb2cbb3ccb').get_text(strip=True) if hotel_box.find('div', class_='a3b8729ab1 e6208ee469 cb2cbb3ccb') else \"No Comment\"\n",
    "\n",
    "            hotels.append({\"Name\": name, \"Location\": location, \"Price\": price, \"Rating\": rating, \"Distance\": distance, \"Comment\": comment})\n",
    "\n",
    "    return pd.DataFrame(hotels)\n",
    "\n",
    "city = \"Berlin\"\n",
    "checkin_date = \"2023-12-01\"\n",
    "checkout_date = \"2023-12-05\"\n",
    "\n",
    "df = fetch_hotel_data(city, checkin_date, checkout_date)\n",
    "print(df.head())"
   ]
  },
  {
   "cell_type": "code",
   "execution_count": 6,
   "metadata": {},
   "outputs": [
    {
     "name": "stdout",
     "output_type": "stream",
     "text": [
      "                                                Name  \\\n",
      "0                      Scandic Berlin Kurfürstendamm   \n",
      "1  Hampton by Hilton Berlin City Centre Alexander...   \n",
      "2  Hotel Berlin, Berlin, a member of Radisson Ind...   \n",
      "3                Schoenhouse Avenue - Digital Access   \n",
      "4                    Motel One Berlin-Alexanderplatz   \n",
      "\n",
      "                             Location  Price  Rating  Distance    Comment  \n",
      "0  Charlottenburg-Wilmersdorf, Berlin  22426     8.1       3.2  Very good  \n",
      "1                       Mitte, Berlin  20339     8.1       3.0  Very good  \n",
      "2                       Mitte, Berlin  16441     7.9       2.1       Good  \n",
      "3             Prenzlauer Berg, Berlin  22742     8.2       2.7  Very good  \n",
      "4                       Mitte, Berlin  18414     8.7       2.4   Fabulous  \n"
     ]
    }
   ],
   "source": [
    "\n",
    "# STEP 2\n",
    "def process_hotel_data(df):\n",
    "    df['Price'] = df['Price'].astype(str)\n",
    "    df['Price'] = df['Price'].str.replace(',', '').str.replace('TWD\\xa0', '')\n",
    "    df['Price'] = df['Price'].replace('No Price', np.nan)\n",
    "    df['Price'] = df['Price'].astype('Int64')\n",
    "    df['Price'].fillna(0, inplace=True)\n",
    "\n",
    "    df['Rating'] = pd.to_numeric(df['Rating'], errors='coerce').astype(float)\n",
    "    df['Comment'] = df['Comment'].astype(str)\n",
    "\n",
    "    def convert_distance(dist):\n",
    "        if pd.isna(dist):\n",
    "            return np.nan\n",
    "        if 'km' in dist:\n",
    "            return float(dist.split(' ')[0])\n",
    "        if 'm' in dist:\n",
    "            return float(dist.split(' ')[0]) / 1000\n",
    "        return np.nan\n",
    "\n",
    "    df['Distance'] = df['Distance'].astype(str).apply(convert_distance)\n",
    "\n",
    "    return df\n",
    "\n",
    "df = process_hotel_data(df)\n",
    "print(df.head())"
   ]
  },
  {
   "cell_type": "code",
   "execution_count": 7,
   "metadata": {},
   "outputs": [
    {
     "data": {
      "application/vnd.plotly.v1+json": {
       "config": {
        "plotlyServerURL": "https://plot.ly"
       },
       "data": [
        {
         "customdata": [
          [
           "Charlottenburg-Wilmersdorf, Berlin",
           "Very good"
          ],
          [
           "Mitte, Berlin",
           "Very good"
          ],
          [
           "Mitte, Berlin",
           "Good"
          ],
          [
           "Prenzlauer Berg, Berlin",
           "Very good"
          ],
          [
           "Mitte, Berlin",
           "Fabulous"
          ],
          [
           "Mitte, Berlin",
           "Very good"
          ],
          [
           "Mitte, Berlin",
           "Fabulous"
          ],
          [
           "Friedrichshain-Kreuzberg, Berlin",
           "Very good"
          ],
          [
           "Mitte, Berlin",
           "Very good"
          ],
          [
           "Mitte, Berlin",
           "Very good"
          ],
          [
           "Charlottenburg-Wilmersdorf, Berlin",
           "Exceptional"
          ],
          [
           "Mitte, Berlin",
           "Good"
          ],
          [
           "Mitte, Berlin",
           "Fabulous"
          ],
          [
           "Mitte, Berlin",
           "Fabulous"
          ],
          [
           "Mitte, Berlin",
           "Very good"
          ],
          [
           "Mitte, Berlin",
           "Very good"
          ],
          [
           "Mitte, Berlin",
           "Very good"
          ],
          [
           "Mitte, Berlin",
           "Very good"
          ],
          [
           "Charlottenburg-Wilmersdorf, Berlin",
           "Good"
          ],
          [
           "Mitte, Berlin",
           "Very good"
          ],
          [
           "Charlottenburg-Wilmersdorf, Berlin",
           "Fabulous"
          ],
          [
           "Mitte, Berlin",
           "Very good"
          ],
          [
           "Pankow, Berlin",
           "Very good"
          ],
          [
           "Charlottenburg, Berlin",
           "Very good"
          ],
          [
           "Charlottenburg-Wilmersdorf, Berlin",
           "Fabulous"
          ],
          [
           "Mitte, Berlin",
           "Review score"
          ],
          [
           "Mitte, Berlin",
           "Review score"
          ],
          [
           "Charlottenburg-Wilmersdorf, Berlin",
           "Very good"
          ],
          [
           "Mitte, Berlin",
           "Very good"
          ],
          [
           "Charlottenburg-Wilmersdorf, Berlin",
           "Very good"
          ],
          [
           "Mitte, Berlin",
           "Good"
          ],
          [
           "Friedrichshain-Kreuzberg, Berlin",
           "Very good"
          ],
          [
           "Charlottenburg-Wilmersdorf, Berlin",
           "Very good"
          ],
          [
           "Friedrichshain-Kreuzberg, Berlin",
           "Fabulous"
          ],
          [
           "Mitte, Berlin",
           "Good"
          ],
          [
           "Charlottenburg-Wilmersdorf, Berlin",
           "Good"
          ],
          [
           "Mitte, Berlin",
           "Very good"
          ],
          [
           "Mitte, Berlin",
           "Very good"
          ],
          [
           "Tempelhof-Schöneberg, Berlin",
           "Good"
          ],
          [
           "Mitte, Berlin",
           "Fabulous"
          ],
          [
           "Charlottenburg-Wilmersdorf, Berlin",
           "Very good"
          ],
          [
           "Mitte, Berlin",
           "Good"
          ],
          [
           "Prenzlauer Berg, Berlin",
           "Good"
          ],
          [
           "Mitte, Berlin",
           "Very good"
          ],
          [
           "Friedrichshain-Kreuzberg, Berlin",
           "Fabulous"
          ],
          [
           "Prenzlauer Berg, Berlin",
           "Very good"
          ],
          [
           "Charlottenburg-Wilmersdorf, Berlin",
           "Good"
          ],
          [
           "Friedrichshain-Kreuzberg, Berlin",
           "Very good"
          ],
          [
           "Friedrichshain-Kreuzberg, Berlin",
           "Very good"
          ],
          [
           "Mitte, Berlin",
           "Very good"
          ],
          [
           "Prenzlauer Berg, Berlin",
           "Very good"
          ],
          [
           "Mitte, Berlin",
           "Good"
          ],
          [
           "Charlottenburg-Wilmersdorf, Berlin",
           "Good"
          ],
          [
           "Mitte, Berlin",
           "Very good"
          ],
          [
           "Mitte, Berlin",
           "Very good"
          ],
          [
           "Neukölln, Berlin",
           "Very good"
          ],
          [
           "Charlottenburg-Wilmersdorf, Berlin",
           "Fabulous"
          ],
          [
           "Mitte, Berlin",
           "Very good"
          ],
          [
           "Mitte, Berlin",
           "Superb"
          ],
          [
           "Spandau, Berlin",
           "Good"
          ],
          [
           "Mitte, Berlin",
           "Good"
          ],
          [
           "Friedrichshain-Kreuzberg, Berlin",
           "Fabulous"
          ],
          [
           "Mitte, Berlin",
           "Very good"
          ],
          [
           "Charlottenburg-Wilmersdorf, Berlin",
           "Fabulous"
          ],
          [
           "Charlottenburg-Wilmersdorf, Berlin",
           "Very good"
          ],
          [
           "Mitte, Berlin",
           "Good"
          ],
          [
           "Lichtenberg, Berlin",
           "Very good"
          ],
          [
           "Treptow-Köpenick, Berlin",
           "Fabulous"
          ],
          [
           "Mitte, Berlin",
           "Very good"
          ],
          [
           "Mitte, Berlin",
           "Good"
          ],
          [
           "Charlottenburg-Wilmersdorf, Berlin",
           "Very good"
          ],
          [
           "Mitte, Berlin",
           "Very good"
          ],
          [
           "Friedrichshain-Kreuzberg, Berlin",
           "Very good"
          ],
          [
           "Mitte, Berlin",
           "Very good"
          ],
          [
           "Neukölln, Berlin",
           "Very good"
          ],
          [
           "Charlottenburg-Wilmersdorf, Berlin",
           "Fabulous"
          ],
          [
           "Mitte, Berlin",
           "Very good"
          ],
          [
           "Charlottenburg-Wilmersdorf, Berlin",
           "Very good"
          ],
          [
           "Mitte, Berlin",
           "Very good"
          ],
          [
           "Charlottenburg-Wilmersdorf, Berlin",
           "Very good"
          ],
          [
           "Charlottenburg-Wilmersdorf, Berlin",
           "Very good"
          ],
          [
           "Mitte, Berlin",
           "Fabulous"
          ],
          [
           "Treptow-Köpenick, Berlin",
           "Very good"
          ],
          [
           "Charlottenburg-Wilmersdorf, Berlin",
           "Very good"
          ],
          [
           "Prenzlauer Berg, Berlin",
           "Very good"
          ],
          [
           "Treptow-Köpenick, Berlin",
           "Good"
          ],
          [
           "Charlottenburg-Wilmersdorf, Berlin",
           "Very good"
          ],
          [
           "Mitte, Berlin",
           "Very good"
          ],
          [
           "Friedrichshain-Kreuzberg, Berlin",
           "Very good"
          ],
          [
           "Mitte, Berlin",
           "Very good"
          ],
          [
           "Prenzlauer Berg, Berlin",
           "Very good"
          ],
          [
           "Tempelhof-Schöneberg, Berlin",
           "Very good"
          ],
          [
           "Mitte, Berlin",
           "Very good"
          ],
          [
           "Mitte, Berlin",
           "Very good"
          ],
          [
           "Mitte, Berlin",
           "Very good"
          ],
          [
           "Tempelhof-Schöneberg, Berlin",
           "Very good"
          ],
          [
           "Charlottenburg-Wilmersdorf, Berlin",
           "Very good"
          ],
          [
           "Charlottenburg-Wilmersdorf, Berlin",
           "Exceptional"
          ],
          [
           "Mitte, Berlin",
           "Fabulous"
          ],
          [
           "Mitte, Berlin",
           "Very good"
          ]
         ],
         "hovertemplate": "<b>%{hovertext}</b><br><br>Price=%{x}<br>Distance (km)=%{y}<br>Location=%{customdata[0]}<br>Comment=%{customdata[1]}<br>Rating=%{marker.color}<extra></extra>",
         "hovertext": [
          "Scandic Berlin Kurfürstendamm",
          "Hampton by Hilton Berlin City Centre Alexanderplatz",
          "Hotel Berlin, Berlin, a member of Radisson Individuals",
          "Schoenhouse Avenue - Digital Access",
          "Motel One Berlin-Alexanderplatz",
          "Hotel Gat Point Charlie",
          "NH Collection Berlin Mitte Friedrichstrasse",
          "Leonardo Royal Hotel Berlin Alexanderplatz",
          "Scandic Berlin Potsdamer Platz",
          "NH Collection Berlin Mitte am Checkpoint Charlie",
          "Carlotta Apartments",
          "Quentin XL Potsdamer Platz",
          "Motel One Berlin-Spittelmarkt",
          "InterContinental Berlin, an IHG Hotel",
          "Maritim proArte Hotel Berlin",
          "Holiday Inn Express - Berlin - Alexanderplatz, an IHG Hotel",
          "Leonardo Hotel Berlin Mitte",
          "ipartment Berlin Mitte",
          "TWO Hotel Berlin by Axel - Adults Only",
          "Hotel AMANO Grand Central",
          "DoubleTree by Hilton Berlin Ku'damm",
          "ibis Styles Hotel Berlin Mitte",
          "The Base Berlin ONE",
          "Crowne Plaza Berlin City Centre Ku'damm, an IHG Hotel",
          "Hotel Palace Berlin",
          "West Side Story 1",
          "West Side Story 1",
          "Max Brown Hotel Ku'damm, part of Sircle Collection",
          "limehome Berlin Müllerstraße - Digital Access",
          "Aparthotel Adagio Berlin Kurfürstendamm",
          "VISIONAPARTMENTS Otto-Braun-Strasse - contactless check-in",
          "Holiday Inn Express Berlin City Centre, an IHG Hotel",
          "H10 Berlin Ku'damm",
          "aletto Hotel Potsdamer Platz",
          "Generator Berlin Alexanderplatz",
          "Leonardo Hotel Berlin",
          "ipartment Berlin Mitte",
          "JW Marriott Hotel Berlin",
          "Novum Hotel Aldea Berlin Centrum",
          "The Westin Grand Berlin",
          "SANA Berlin Hotel",
          "Generator Berlin Mitte",
          "Victor's Residenz-Hotel Berlin",
          "AC Hotel by Marriott Berlin Humboldthain Park",
          "STAYERY Berlin Friedrichshain",
          "Schoenhouse City Street",
          "acora Berlin Living the City",
          "AMANO East Side",
          "Moxy Berlin Ostbahnhof",
          "Select Hotel Berlin The Wall",
          "Gold Palais Hotel",
          "H+ Hotel 4Youth",
          "Leonardo Hotel Berlin",
          "Hotel Gat Point Charlie",
          "Holiday Inn Express - Berlin - Alexanderplatz, an IHG Hotel",
          "Aeronaut Service Apartments Neukölln-Kreuzberg by Pearl 1",
          "Hotel Palace Berlin",
          "Living Hotel Berlin Mitte",
          "The Mandala Suites",
          "Holiday Inn Berlin City-West, an IHG Hotel",
          "MEININGER Hotel Berlin Hauptbahnhof",
          "STAYERY Berlin Friedrichshain",
          "Maritim proArte Hotel Berlin",
          "Schlosshotel Berlin by Patrick Hellmann",
          "Hotel Augusta Am Kurfürstendamm",
          "a&o Berlin Hauptbahnhof",
          "the niu Hide",
          "Premier Inn Berlin Airport",
          "ibis Styles Hotel Berlin Mitte",
          "Eurostars Berlin",
          "Scandic Berlin Kurfürstendamm",
          "Ibis Berlin Hauptbahnhof",
          "Holiday Inn Express Berlin City Centre, an IHG Hotel",
          "Classik Hotel Alexander Plaza",
          "Leonardo Boutique Hotel Berlin City South",
          "Hotel am Steinplatz, Autograph Collection",
          "Mercure Hotel Berlin City",
          "Novotel Berlin Am Tiergarten",
          "INNSiDE by Meliá Berlin Mitte",
          "Aparthotel Adagio Berlin Kurfürstendamm",
          "Leonardo Hotel Berlin KU'DAMM",
          "Hotel Luc, Autograph Collection",
          "Essential by Dorint Berlin-Adlershof",
          "Hyperion Hotel Berlin",
          "limehome Berlin Prenzlauer Allee - Digital Access",
          "ibis Styles Berlin Treptow",
          "Citadines Kurfürstendamm Berlin",
          "Hotel AMO by AMANO Friedrichstraße",
          "limehome Berlin Stresemannstr",
          "AC Hotel by Marriott Berlin Humboldthain Park",
          "ibis Hotel Berlin Mitte",
          "limehome Berlin Luise Henriette Str - Digital Access",
          "art'otel berlin mitte, Powered by Radisson Hotels",
          "Grimm's Berlin Mitte",
          "Hotel ROMY by AMANO",
          "LINDEMANN'S",
          "Waldorf Astoria Berlin",
          "Carlotta Apartments",
          "Apartments Rosenthal Residence",
          "Pullman Berlin Schweizerhof"
         ],
         "legendgroup": "",
         "marker": {
          "color": [
           8.1,
           8.1,
           7.9,
           8.2,
           8.7,
           8.1,
           8.6,
           8.4,
           8.1,
           8.3,
           10,
           7.2,
           8.7,
           8.8,
           8,
           8.3,
           8.1,
           8.3,
           7.9,
           8.1,
           8.8,
           8,
           8,
           8.3,
           8.8,
           4.5,
           4.5,
           8.3,
           8.3,
           8.3,
           7.4,
           8.1,
           8.3,
           8.7,
           7.2,
           7.9,
           8.3,
           8.1,
           7.1,
           8.6,
           8.5,
           7.4,
           7.9,
           8,
           8.6,
           8.4,
           7.5,
           8.3,
           8.1,
           8.4,
           8.3,
           7.8,
           7.9,
           8.1,
           8.3,
           8.1,
           8.8,
           8.2,
           9,
           7.2,
           7.4,
           8.6,
           8,
           8.7,
           8.1,
           7.2,
           8.4,
           8.8,
           8,
           7.9,
           8.1,
           8.2,
           8.1,
           8.5,
           8.1,
           8.8,
           8.1,
           8.3,
           8.3,
           8.3,
           8,
           8.9,
           8.2,
           8.5,
           8.3,
           7.6,
           8.2,
           8.2,
           8.3,
           8,
           8,
           8.4,
           8.3,
           8.4,
           8.3,
           8.4,
           8.4,
           10,
           8.9,
           8.5
          ],
          "coloraxis": "coloraxis",
          "symbol": "circle"
         },
         "mode": "markers",
         "name": "",
         "orientation": "v",
         "showlegend": false,
         "type": "scatter",
         "x": [
          22426,
          20339,
          16441,
          22742,
          18414,
          17967,
          20252,
          15559,
          19754,
          19865,
          18963,
          15616,
          18414,
          28794,
          24706,
          20028,
          18260,
          20905,
          11690,
          17607,
          21445,
          14834,
          11723,
          21583,
          24848,
          12230,
          12230,
          16070,
          16284,
          18665,
          14824,
          20131,
          19476,
          14818,
          12325,
          13711,
          20790,
          25010,
          12260,
          41087,
          19189,
          12927,
          22227,
          19010,
          18502,
          19754,
          13774,
          21210,
          19541,
          15794,
          21017,
          20406,
          13787,
          17967,
          20028,
          23985,
          24848,
          22040,
          34279,
          16067,
          15373,
          18604,
          24706,
          53552,
          20784,
          14396,
          15631,
          9928,
          14834,
          23605,
          22426,
          19121,
          20131,
          23814,
          13171,
          34766,
          19616,
          18586,
          21815,
          18665,
          15390,
          36793,
          17747,
          24529,
          17521,
          18070,
          15494,
          25070,
          13879,
          19010,
          17108,
          14223,
          26006,
          20633,
          16511,
          17417,
          42719,
          18963,
          27823,
          23979
         ],
         "xaxis": "x",
         "y": [
          3.2,
          3,
          2.1,
          2.7,
          2.4,
          1.1,
          0.9,
          3.4,
          1.3,
          1,
          5.4,
          1.5,
          1.7,
          2.4,
          0.8,
          2.4,
          0.9,
          3.3,
          4.3,
          1.4,
          3.2,
          2.3,
          6.5,
          2.8,
          2.8,
          3.3,
          3.3,
          4.2,
          3,
          4.2,
          3,
          1.7,
          3.4,
          1.8,
          2.9,
          4.9,
          3.3,
          1.3,
          2.3,
          0.8,
          3.4,
          1.4,
          3.8,
          3.7,
          6.1,
          2.7,
          3.4,
          3.8,
          3.7,
          1.2,
          3.6,
          3.1,
          4.9,
          1.1,
          2.4,
          5.2,
          2.8,
          2.2,
          1,
          8.2,
          1.1,
          6.1,
          0.8,
          8,
          3.7,
          1.7,
          6.8,
          17.3,
          2.3,
          0.9,
          3.2,
          1.3,
          1.7,
          2,
          10.5,
          3.5,
          1.6,
          2.8,
          1.9,
          4.2,
          3.9,
          1,
          14.2,
          3.9,
          3.2,
          11.2,
          4.7,
          1.3,
          1.8,
          3.7,
          3.1,
          5.8,
          2.3,
          2.1,
          1.3,
          2.7,
          3.2,
          5.4,
          2.2,
          2.5
         ],
         "yaxis": "y"
        }
       ],
       "layout": {
        "coloraxis": {
         "colorbar": {
          "title": {
           "text": "Rating"
          }
         },
         "colorscale": [
          [
           0,
           "#0d0887"
          ],
          [
           0.1111111111111111,
           "#46039f"
          ],
          [
           0.2222222222222222,
           "#7201a8"
          ],
          [
           0.3333333333333333,
           "#9c179e"
          ],
          [
           0.4444444444444444,
           "#bd3786"
          ],
          [
           0.5555555555555556,
           "#d8576b"
          ],
          [
           0.6666666666666666,
           "#ed7953"
          ],
          [
           0.7777777777777778,
           "#fb9f3a"
          ],
          [
           0.8888888888888888,
           "#fdca26"
          ],
          [
           1,
           "#f0f921"
          ]
         ]
        },
        "legend": {
         "tracegroupgap": 0
        },
        "template": {
         "data": {
          "bar": [
           {
            "error_x": {
             "color": "#2a3f5f"
            },
            "error_y": {
             "color": "#2a3f5f"
            },
            "marker": {
             "line": {
              "color": "#E5ECF6",
              "width": 0.5
             },
             "pattern": {
              "fillmode": "overlay",
              "size": 10,
              "solidity": 0.2
             }
            },
            "type": "bar"
           }
          ],
          "barpolar": [
           {
            "marker": {
             "line": {
              "color": "#E5ECF6",
              "width": 0.5
             },
             "pattern": {
              "fillmode": "overlay",
              "size": 10,
              "solidity": 0.2
             }
            },
            "type": "barpolar"
           }
          ],
          "carpet": [
           {
            "aaxis": {
             "endlinecolor": "#2a3f5f",
             "gridcolor": "white",
             "linecolor": "white",
             "minorgridcolor": "white",
             "startlinecolor": "#2a3f5f"
            },
            "baxis": {
             "endlinecolor": "#2a3f5f",
             "gridcolor": "white",
             "linecolor": "white",
             "minorgridcolor": "white",
             "startlinecolor": "#2a3f5f"
            },
            "type": "carpet"
           }
          ],
          "choropleth": [
           {
            "colorbar": {
             "outlinewidth": 0,
             "ticks": ""
            },
            "type": "choropleth"
           }
          ],
          "contour": [
           {
            "colorbar": {
             "outlinewidth": 0,
             "ticks": ""
            },
            "colorscale": [
             [
              0,
              "#0d0887"
             ],
             [
              0.1111111111111111,
              "#46039f"
             ],
             [
              0.2222222222222222,
              "#7201a8"
             ],
             [
              0.3333333333333333,
              "#9c179e"
             ],
             [
              0.4444444444444444,
              "#bd3786"
             ],
             [
              0.5555555555555556,
              "#d8576b"
             ],
             [
              0.6666666666666666,
              "#ed7953"
             ],
             [
              0.7777777777777778,
              "#fb9f3a"
             ],
             [
              0.8888888888888888,
              "#fdca26"
             ],
             [
              1,
              "#f0f921"
             ]
            ],
            "type": "contour"
           }
          ],
          "contourcarpet": [
           {
            "colorbar": {
             "outlinewidth": 0,
             "ticks": ""
            },
            "type": "contourcarpet"
           }
          ],
          "heatmap": [
           {
            "colorbar": {
             "outlinewidth": 0,
             "ticks": ""
            },
            "colorscale": [
             [
              0,
              "#0d0887"
             ],
             [
              0.1111111111111111,
              "#46039f"
             ],
             [
              0.2222222222222222,
              "#7201a8"
             ],
             [
              0.3333333333333333,
              "#9c179e"
             ],
             [
              0.4444444444444444,
              "#bd3786"
             ],
             [
              0.5555555555555556,
              "#d8576b"
             ],
             [
              0.6666666666666666,
              "#ed7953"
             ],
             [
              0.7777777777777778,
              "#fb9f3a"
             ],
             [
              0.8888888888888888,
              "#fdca26"
             ],
             [
              1,
              "#f0f921"
             ]
            ],
            "type": "heatmap"
           }
          ],
          "heatmapgl": [
           {
            "colorbar": {
             "outlinewidth": 0,
             "ticks": ""
            },
            "colorscale": [
             [
              0,
              "#0d0887"
             ],
             [
              0.1111111111111111,
              "#46039f"
             ],
             [
              0.2222222222222222,
              "#7201a8"
             ],
             [
              0.3333333333333333,
              "#9c179e"
             ],
             [
              0.4444444444444444,
              "#bd3786"
             ],
             [
              0.5555555555555556,
              "#d8576b"
             ],
             [
              0.6666666666666666,
              "#ed7953"
             ],
             [
              0.7777777777777778,
              "#fb9f3a"
             ],
             [
              0.8888888888888888,
              "#fdca26"
             ],
             [
              1,
              "#f0f921"
             ]
            ],
            "type": "heatmapgl"
           }
          ],
          "histogram": [
           {
            "marker": {
             "pattern": {
              "fillmode": "overlay",
              "size": 10,
              "solidity": 0.2
             }
            },
            "type": "histogram"
           }
          ],
          "histogram2d": [
           {
            "colorbar": {
             "outlinewidth": 0,
             "ticks": ""
            },
            "colorscale": [
             [
              0,
              "#0d0887"
             ],
             [
              0.1111111111111111,
              "#46039f"
             ],
             [
              0.2222222222222222,
              "#7201a8"
             ],
             [
              0.3333333333333333,
              "#9c179e"
             ],
             [
              0.4444444444444444,
              "#bd3786"
             ],
             [
              0.5555555555555556,
              "#d8576b"
             ],
             [
              0.6666666666666666,
              "#ed7953"
             ],
             [
              0.7777777777777778,
              "#fb9f3a"
             ],
             [
              0.8888888888888888,
              "#fdca26"
             ],
             [
              1,
              "#f0f921"
             ]
            ],
            "type": "histogram2d"
           }
          ],
          "histogram2dcontour": [
           {
            "colorbar": {
             "outlinewidth": 0,
             "ticks": ""
            },
            "colorscale": [
             [
              0,
              "#0d0887"
             ],
             [
              0.1111111111111111,
              "#46039f"
             ],
             [
              0.2222222222222222,
              "#7201a8"
             ],
             [
              0.3333333333333333,
              "#9c179e"
             ],
             [
              0.4444444444444444,
              "#bd3786"
             ],
             [
              0.5555555555555556,
              "#d8576b"
             ],
             [
              0.6666666666666666,
              "#ed7953"
             ],
             [
              0.7777777777777778,
              "#fb9f3a"
             ],
             [
              0.8888888888888888,
              "#fdca26"
             ],
             [
              1,
              "#f0f921"
             ]
            ],
            "type": "histogram2dcontour"
           }
          ],
          "mesh3d": [
           {
            "colorbar": {
             "outlinewidth": 0,
             "ticks": ""
            },
            "type": "mesh3d"
           }
          ],
          "parcoords": [
           {
            "line": {
             "colorbar": {
              "outlinewidth": 0,
              "ticks": ""
             }
            },
            "type": "parcoords"
           }
          ],
          "pie": [
           {
            "automargin": true,
            "type": "pie"
           }
          ],
          "scatter": [
           {
            "fillpattern": {
             "fillmode": "overlay",
             "size": 10,
             "solidity": 0.2
            },
            "type": "scatter"
           }
          ],
          "scatter3d": [
           {
            "line": {
             "colorbar": {
              "outlinewidth": 0,
              "ticks": ""
             }
            },
            "marker": {
             "colorbar": {
              "outlinewidth": 0,
              "ticks": ""
             }
            },
            "type": "scatter3d"
           }
          ],
          "scattercarpet": [
           {
            "marker": {
             "colorbar": {
              "outlinewidth": 0,
              "ticks": ""
             }
            },
            "type": "scattercarpet"
           }
          ],
          "scattergeo": [
           {
            "marker": {
             "colorbar": {
              "outlinewidth": 0,
              "ticks": ""
             }
            },
            "type": "scattergeo"
           }
          ],
          "scattergl": [
           {
            "marker": {
             "colorbar": {
              "outlinewidth": 0,
              "ticks": ""
             }
            },
            "type": "scattergl"
           }
          ],
          "scattermapbox": [
           {
            "marker": {
             "colorbar": {
              "outlinewidth": 0,
              "ticks": ""
             }
            },
            "type": "scattermapbox"
           }
          ],
          "scatterpolar": [
           {
            "marker": {
             "colorbar": {
              "outlinewidth": 0,
              "ticks": ""
             }
            },
            "type": "scatterpolar"
           }
          ],
          "scatterpolargl": [
           {
            "marker": {
             "colorbar": {
              "outlinewidth": 0,
              "ticks": ""
             }
            },
            "type": "scatterpolargl"
           }
          ],
          "scatterternary": [
           {
            "marker": {
             "colorbar": {
              "outlinewidth": 0,
              "ticks": ""
             }
            },
            "type": "scatterternary"
           }
          ],
          "surface": [
           {
            "colorbar": {
             "outlinewidth": 0,
             "ticks": ""
            },
            "colorscale": [
             [
              0,
              "#0d0887"
             ],
             [
              0.1111111111111111,
              "#46039f"
             ],
             [
              0.2222222222222222,
              "#7201a8"
             ],
             [
              0.3333333333333333,
              "#9c179e"
             ],
             [
              0.4444444444444444,
              "#bd3786"
             ],
             [
              0.5555555555555556,
              "#d8576b"
             ],
             [
              0.6666666666666666,
              "#ed7953"
             ],
             [
              0.7777777777777778,
              "#fb9f3a"
             ],
             [
              0.8888888888888888,
              "#fdca26"
             ],
             [
              1,
              "#f0f921"
             ]
            ],
            "type": "surface"
           }
          ],
          "table": [
           {
            "cells": {
             "fill": {
              "color": "#EBF0F8"
             },
             "line": {
              "color": "white"
             }
            },
            "header": {
             "fill": {
              "color": "#C8D4E3"
             },
             "line": {
              "color": "white"
             }
            },
            "type": "table"
           }
          ]
         },
         "layout": {
          "annotationdefaults": {
           "arrowcolor": "#2a3f5f",
           "arrowhead": 0,
           "arrowwidth": 1
          },
          "autotypenumbers": "strict",
          "coloraxis": {
           "colorbar": {
            "outlinewidth": 0,
            "ticks": ""
           }
          },
          "colorscale": {
           "diverging": [
            [
             0,
             "#8e0152"
            ],
            [
             0.1,
             "#c51b7d"
            ],
            [
             0.2,
             "#de77ae"
            ],
            [
             0.3,
             "#f1b6da"
            ],
            [
             0.4,
             "#fde0ef"
            ],
            [
             0.5,
             "#f7f7f7"
            ],
            [
             0.6,
             "#e6f5d0"
            ],
            [
             0.7,
             "#b8e186"
            ],
            [
             0.8,
             "#7fbc41"
            ],
            [
             0.9,
             "#4d9221"
            ],
            [
             1,
             "#276419"
            ]
           ],
           "sequential": [
            [
             0,
             "#0d0887"
            ],
            [
             0.1111111111111111,
             "#46039f"
            ],
            [
             0.2222222222222222,
             "#7201a8"
            ],
            [
             0.3333333333333333,
             "#9c179e"
            ],
            [
             0.4444444444444444,
             "#bd3786"
            ],
            [
             0.5555555555555556,
             "#d8576b"
            ],
            [
             0.6666666666666666,
             "#ed7953"
            ],
            [
             0.7777777777777778,
             "#fb9f3a"
            ],
            [
             0.8888888888888888,
             "#fdca26"
            ],
            [
             1,
             "#f0f921"
            ]
           ],
           "sequentialminus": [
            [
             0,
             "#0d0887"
            ],
            [
             0.1111111111111111,
             "#46039f"
            ],
            [
             0.2222222222222222,
             "#7201a8"
            ],
            [
             0.3333333333333333,
             "#9c179e"
            ],
            [
             0.4444444444444444,
             "#bd3786"
            ],
            [
             0.5555555555555556,
             "#d8576b"
            ],
            [
             0.6666666666666666,
             "#ed7953"
            ],
            [
             0.7777777777777778,
             "#fb9f3a"
            ],
            [
             0.8888888888888888,
             "#fdca26"
            ],
            [
             1,
             "#f0f921"
            ]
           ]
          },
          "colorway": [
           "#636efa",
           "#EF553B",
           "#00cc96",
           "#ab63fa",
           "#FFA15A",
           "#19d3f3",
           "#FF6692",
           "#B6E880",
           "#FF97FF",
           "#FECB52"
          ],
          "font": {
           "color": "#2a3f5f"
          },
          "geo": {
           "bgcolor": "white",
           "lakecolor": "white",
           "landcolor": "#E5ECF6",
           "showlakes": true,
           "showland": true,
           "subunitcolor": "white"
          },
          "hoverlabel": {
           "align": "left"
          },
          "hovermode": "closest",
          "mapbox": {
           "style": "light"
          },
          "paper_bgcolor": "white",
          "plot_bgcolor": "#E5ECF6",
          "polar": {
           "angularaxis": {
            "gridcolor": "white",
            "linecolor": "white",
            "ticks": ""
           },
           "bgcolor": "#E5ECF6",
           "radialaxis": {
            "gridcolor": "white",
            "linecolor": "white",
            "ticks": ""
           }
          },
          "scene": {
           "xaxis": {
            "backgroundcolor": "#E5ECF6",
            "gridcolor": "white",
            "gridwidth": 2,
            "linecolor": "white",
            "showbackground": true,
            "ticks": "",
            "zerolinecolor": "white"
           },
           "yaxis": {
            "backgroundcolor": "#E5ECF6",
            "gridcolor": "white",
            "gridwidth": 2,
            "linecolor": "white",
            "showbackground": true,
            "ticks": "",
            "zerolinecolor": "white"
           },
           "zaxis": {
            "backgroundcolor": "#E5ECF6",
            "gridcolor": "white",
            "gridwidth": 2,
            "linecolor": "white",
            "showbackground": true,
            "ticks": "",
            "zerolinecolor": "white"
           }
          },
          "shapedefaults": {
           "line": {
            "color": "#2a3f5f"
           }
          },
          "ternary": {
           "aaxis": {
            "gridcolor": "white",
            "linecolor": "white",
            "ticks": ""
           },
           "baxis": {
            "gridcolor": "white",
            "linecolor": "white",
            "ticks": ""
           },
           "bgcolor": "#E5ECF6",
           "caxis": {
            "gridcolor": "white",
            "linecolor": "white",
            "ticks": ""
           }
          },
          "title": {
           "x": 0.05
          },
          "xaxis": {
           "automargin": true,
           "gridcolor": "white",
           "linecolor": "white",
           "ticks": "",
           "title": {
            "standoff": 15
           },
           "zerolinecolor": "white",
           "zerolinewidth": 2
          },
          "yaxis": {
           "automargin": true,
           "gridcolor": "white",
           "linecolor": "white",
           "ticks": "",
           "title": {
            "standoff": 15
           },
           "zerolinecolor": "white",
           "zerolinewidth": 2
          }
         }
        },
        "title": {
         "text": "Hotel Price and Distance Scatter Plot"
        },
        "xaxis": {
         "anchor": "y",
         "domain": [
          0,
          1
         ],
         "title": {
          "text": "Price"
         }
        },
        "yaxis": {
         "anchor": "x",
         "domain": [
          0,
          1
         ],
         "title": {
          "text": "Distance (km)"
         }
        }
       }
      }
     },
     "metadata": {},
     "output_type": "display_data"
    }
   ],
   "source": [
    "df_plot = df.dropna(subset=['Price', 'Distance', 'Rating'])\n",
    "\n",
    "fig = px.scatter(df_plot, x='Price', y='Distance', color='Rating', hover_name=\"Name\", hover_data=['Location', 'Comment'],\n",
    "                         labels={\"Price\": \"Price\", \"Distance\": \"Distance (km)\", \"Rating\": \"Rating\"},\n",
    "                         title=\"Hotel Price and Distance Scatter Plot\")\n",
    "\n",
    "# Show the plot\n",
    "fig.show()"
   ]
  }
 ],
 "metadata": {
  "kernelspec": {
   "display_name": "Python 3",
   "language": "python",
   "name": "python3"
  },
  "language_info": {
   "codemirror_mode": {
    "name": "ipython",
    "version": 3
   },
   "file_extension": ".py",
   "mimetype": "text/x-python",
   "name": "python",
   "nbconvert_exporter": "python",
   "pygments_lexer": "ipython3",
   "version": "3.9.13"
  }
 },
 "nbformat": 4,
 "nbformat_minor": 2
}
