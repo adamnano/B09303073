{
 "cells": [
  {
   "cell_type": "code",
   "execution_count": 8,
   "metadata": {},
   "outputs": [],
   "source": [
    "import dash\n",
    "from dash import html, dcc, Input, Output, State\n",
    "import requests\n",
    "from bs4 import BeautifulSoup\n",
    "import pandas as pd\n",
    "from datetime import datetime\n",
    "import numpy as np\n",
    "import plotly.express as px"
   ]
  },
  {
   "cell_type": "code",
   "execution_count": 9,
   "metadata": {},
   "outputs": [
    {
     "name": "stdout",
     "output_type": "stream",
     "text": [
      "                                                Name  \\\n",
      "0                      Scandic Berlin Kurfürstendamm   \n",
      "1  Hampton by Hilton Berlin City Centre Alexander...   \n",
      "2  Hotel Berlin, Berlin, a member of Radisson Ind...   \n",
      "3         Leonardo Royal Hotel Berlin Alexanderplatz   \n",
      "4                      Motel One Berlin-Spittelmarkt   \n",
      "\n",
      "                             Location       Price Rating            Distance  \\\n",
      "0  Charlottenburg-Wilmersdorf, Berlin  TWD 22,426    8.1  3.2 km from centre   \n",
      "1                       Mitte, Berlin  TWD 20,339    8.1    3 km from centre   \n",
      "2                       Mitte, Berlin  TWD 16,441    7.9  2.1 km from centre   \n",
      "3    Friedrichshain-Kreuzberg, Berlin  TWD 15,474    8.4  3.4 km from centre   \n",
      "4                       Mitte, Berlin  TWD 18,414    8.7  1.7 km from centre   \n",
      "\n",
      "     Comment  \n",
      "0  Very good  \n",
      "1  Very good  \n",
      "2       Good  \n",
      "3  Very good  \n",
      "4   Fabulous  \n"
     ]
    }
   ],
   "source": [
    "def fetch_hotel_data(city, checkin_date, checkout_date):\n",
    "    checkin_date = datetime.strptime(checkin_date, \"%Y-%m-%d\").strftime(\"%Y-%m-%d\")\n",
    "    checkout_date = datetime.strptime(checkout_date, \"%Y-%m-%d\").strftime(\"%Y-%m-%d\")\n",
    "\n",
    "    headers = {\n",
    "        'User-Agent': 'Mozilla/5.0 (Macintosh; Intel Mac OS X 10_15_7) AppleWebKit/537.36 (KHTML, like Gecko) Chrome/114.0.0.0 Safari/537.36',\n",
    "        'Accept-Language': 'en-US, en;q=0.5'\n",
    "    }\n",
    "\n",
    "    hotels = []\n",
    "\n",
    "    # Loop through first 4 pages\n",
    "    for page in range(4):\n",
    "        offset = page * 25\n",
    "        base_url = \"https://www.booking.com/searchresults.en-gb.html?ss={}&checkin={}&checkout={}&offset={}\"\n",
    "\n",
    "        url = base_url.format(city, checkin_date, checkout_date, offset)\n",
    "        response = requests.get(url, headers=headers)\n",
    "        soup = BeautifulSoup(response.content, 'html.parser')\n",
    "\n",
    "        information = soup.find('h1', class_='f6431b446c d5f78961c3').get_text(strip=True) if soup.find('h1', class_='f6431b446c d5f78961c3') else \"No Information\"\n",
    "        if information == \"No Information\":\n",
    "            break\n",
    "\n",
    "        hotel_boxes = soup.find_all(\"div\", class_=\"c82435a4b8 a178069f51 a6ae3c2b40 a18aeea94d d794b7a0f7 f53e278e95 c6710787a4\")\n",
    "        \n",
    "        if not hotel_boxes:\n",
    "            break\n",
    "\n",
    "        for hotel_box in hotel_boxes:\n",
    "            name = hotel_box.find('div', class_='f6431b446c a15b38c233').get_text(strip=True) if hotel_box.find('div', class_='f6431b446c a15b38c233') else \"No Name\"\n",
    "            location = hotel_box.find('span', class_='aee5343fdb def9bc142a').get_text(strip=True) if hotel_box.find('span', class_='aee5343fdb def9bc142a') else \"No Location\"\n",
    "            price = hotel_box.find('span', class_=\"f6431b446c fbfd7c1165 e84eb96b1f\").get_text(strip=True) if hotel_box.find('span', class_=\"f6431b446c fbfd7c1165 e84eb96b1f\") else \"No Price\"\n",
    "            rating = hotel_box.find(\"div\", class_=\"a3b8729ab1 d86cee9b25\").get_text(strip=True) if hotel_box.find(\"div\", class_=\"a3b8729ab1 d86cee9b25\") else \"No Rating\"\n",
    "            distance = hotel_box.find(\"span\", {\"data-testid\": \"distance\"}).get_text(strip=True) if hotel_box.find(\"span\", {\"data-testid\": \"distance\"}) else \"No Distance\"\n",
    "            comment = hotel_box.find('div', class_='a3b8729ab1 e6208ee469 cb2cbb3ccb').get_text(strip=True) if hotel_box.find('div', class_='a3b8729ab1 e6208ee469 cb2cbb3ccb') else \"No Comment\"\n",
    "\n",
    "            hotels.append({\"Name\": name, \"Location\": location, \"Price\": price, \"Rating\": rating, \"Distance\": distance, \"Comment\": comment})\n",
    "\n",
    "    return pd.DataFrame(hotels)\n",
    "\n",
    "city = \"Berlin\"\n",
    "checkin_date = \"2023-12-01\"\n",
    "checkout_date = \"2023-12-05\"\n",
    "\n",
    "df = fetch_hotel_data(city, checkin_date, checkout_date)\n",
    "print(df.head())"
   ]
  },
  {
   "cell_type": "code",
   "execution_count": 10,
   "metadata": {},
   "outputs": [
    {
     "name": "stdout",
     "output_type": "stream",
     "text": [
      "                                                Name  \\\n",
      "0                      Scandic Berlin Kurfürstendamm   \n",
      "1  Hampton by Hilton Berlin City Centre Alexander...   \n",
      "2  Hotel Berlin, Berlin, a member of Radisson Ind...   \n",
      "3         Leonardo Royal Hotel Berlin Alexanderplatz   \n",
      "4                      Motel One Berlin-Spittelmarkt   \n",
      "\n",
      "                             Location  Price  Rating  Distance    Comment  \n",
      "0  Charlottenburg-Wilmersdorf, Berlin  22426     8.1       3.2  Very good  \n",
      "1                       Mitte, Berlin  20339     8.1       3.0  Very good  \n",
      "2                       Mitte, Berlin  16441     7.9       2.1       Good  \n",
      "3    Friedrichshain-Kreuzberg, Berlin  15474     8.4       3.4  Very good  \n",
      "4                       Mitte, Berlin  18414     8.7       1.7   Fabulous  \n"
     ]
    }
   ],
   "source": [
    "\n",
    "# STEP 2\n",
    "def process_hotel_data(df):\n",
    "    df['Price'] = df['Price'].astype(str)\n",
    "    df['Price'] = df['Price'].str.replace(',', '').str.replace('TWD\\xa0', '')\n",
    "    df['Price'] = df['Price'].replace('No Price', np.nan)\n",
    "    df['Price'] = df['Price'].astype('Int64')\n",
    "    df['Price'].fillna(0, inplace=True)\n",
    "\n",
    "    df['Rating'] = pd.to_numeric(df['Rating'], errors='coerce').astype(float)\n",
    "    df['Comment'] = df['Comment'].astype(str)\n",
    "\n",
    "    def convert_distance(dist):\n",
    "        if pd.isna(dist):\n",
    "            return np.nan\n",
    "        if 'km' in dist:\n",
    "            return float(dist.split(' ')[0])\n",
    "        if 'm' in dist:\n",
    "            return float(dist.split(' ')[0]) / 1000\n",
    "        return np.nan\n",
    "\n",
    "    df['Distance'] = df['Distance'].astype(str).apply(convert_distance)\n",
    "\n",
    "    return df\n",
    "\n",
    "df = process_hotel_data(df)\n",
    "print(df.head())"
   ]
  },
  {
   "cell_type": "code",
   "execution_count": 11,
   "metadata": {},
   "outputs": [
    {
     "data": {
      "application/vnd.plotly.v1+json": {
       "config": {
        "plotlyServerURL": "https://plot.ly"
       },
       "data": [
        {
         "customdata": [
          [
           "Charlottenburg-Wilmersdorf, Berlin",
           "Very good"
          ],
          [
           "Mitte, Berlin",
           "Very good"
          ],
          [
           "Mitte, Berlin",
           "Good"
          ],
          [
           "Friedrichshain-Kreuzberg, Berlin",
           "Very good"
          ],
          [
           "Mitte, Berlin",
           "Fabulous"
          ],
          [
           "Mitte, Berlin",
           "Good"
          ],
          [
           "Mitte, Berlin",
           "Fabulous"
          ],
          [
           "Charlottenburg-Wilmersdorf, Berlin",
           "Very good"
          ],
          [
           "Mitte, Berlin",
           "Fabulous"
          ],
          [
           "Mitte, Berlin",
           "Very good"
          ],
          [
           "Friedrichshain-Kreuzberg, Berlin",
           "Very good"
          ],
          [
           "Charlottenburg-Wilmersdorf, Berlin",
           "Very good"
          ],
          [
           "Mitte, Berlin",
           "Very good"
          ],
          [
           "Mitte, Berlin",
           "Good"
          ],
          [
           "Mitte, Berlin",
           "Very good"
          ],
          [
           "Friedrichshain-Kreuzberg, Berlin",
           "Fabulous"
          ],
          [
           "Charlottenburg-Wilmersdorf, Berlin",
           "Fabulous"
          ],
          [
           "Charlottenburg-Wilmersdorf, Berlin",
           "Very good"
          ],
          [
           "Mitte, Berlin",
           "Very good"
          ],
          [
           "Charlottenburg-Wilmersdorf, Berlin",
           "Fabulous"
          ],
          [
           "Mitte, Berlin",
           "Superb"
          ],
          [
           "Charlottenburg-Wilmersdorf, Berlin",
           "Good"
          ],
          [
           "Friedrichshain-Kreuzberg, Berlin",
           "Very good"
          ],
          [
           "Charlottenburg, Berlin",
           "Very good"
          ],
          [
           "Mitte, Berlin",
           "Very good"
          ],
          [
           "Charlottenburg-Wilmersdorf, Berlin",
           "Very good"
          ],
          [
           "Friedrichshain-Kreuzberg, Berlin",
           "Superb"
          ],
          [
           "Mitte, Berlin",
           "Very good"
          ],
          [
           "Charlottenburg-Wilmersdorf, Berlin",
           "Very good"
          ],
          [
           "Mitte, Berlin",
           "Good"
          ],
          [
           "Friedrichshain-Kreuzberg, Berlin",
           "Very good"
          ],
          [
           "Friedrichshain-Kreuzberg, Berlin",
           "Fabulous"
          ],
          [
           "Charlottenburg-Wilmersdorf, Berlin",
           "Very good"
          ],
          [
           "Mitte, Berlin",
           "Good"
          ],
          [
           "Tempelhof-Schöneberg, Berlin",
           "Good"
          ],
          [
           "Mitte, Berlin",
           "Very good"
          ],
          [
           "Mitte, Berlin",
           "Very good"
          ],
          [
           "Mitte, Berlin",
           "Fabulous"
          ],
          [
           "Mitte, Berlin",
           "Good"
          ],
          [
           "Prenzlauer Berg, Berlin",
           "Good"
          ],
          [
           "Mitte, Berlin",
           "Very good"
          ],
          [
           "Friedrichshain-Kreuzberg, Berlin",
           "Fabulous"
          ],
          [
           "Prenzlauer Berg, Berlin",
           "Very good"
          ],
          [
           "Charlottenburg-Wilmersdorf, Berlin",
           "Good"
          ],
          [
           "Friedrichshain-Kreuzberg, Berlin",
           "Very good"
          ],
          [
           "Friedrichshain-Kreuzberg, Berlin",
           "Very good"
          ],
          [
           "Mitte, Berlin",
           "Very good"
          ],
          [
           "Prenzlauer Berg, Berlin",
           "Very good"
          ],
          [
           "Friedrichshain-Kreuzberg, Berlin",
           "Superb"
          ],
          [
           "Mitte, Berlin",
           "Superb"
          ],
          [
           "Mitte, Berlin",
           "Good"
          ],
          [
           "Charlottenburg-Wilmersdorf, Berlin",
           "Good"
          ],
          [
           "Mitte, Berlin",
           "Very good"
          ],
          [
           "Mitte, Berlin",
           "Very good"
          ],
          [
           "Neukölln, Berlin",
           "Very good"
          ],
          [
           "Charlottenburg-Wilmersdorf, Berlin",
           "Fabulous"
          ],
          [
           "Mitte, Berlin",
           "Very good"
          ],
          [
           "Mitte, Berlin",
           "Superb"
          ],
          [
           "Spandau, Berlin",
           "Good"
          ],
          [
           "Mitte, Berlin",
           "Good"
          ],
          [
           "Friedrichshain-Kreuzberg, Berlin",
           "Fabulous"
          ],
          [
           "Treptow-Köpenick, Berlin",
           "Fabulous"
          ],
          [
           "Charlottenburg-Wilmersdorf, Berlin",
           "Fabulous"
          ],
          [
           "Charlottenburg-Wilmersdorf, Berlin",
           "Very good"
          ],
          [
           "Mitte, Berlin",
           "Very good"
          ],
          [
           "Lichtenberg, Berlin",
           "Very good"
          ],
          [
           "Mitte, Berlin",
           "Good"
          ],
          [
           "Mitte, Berlin",
           "Very good"
          ],
          [
           "Mitte, Berlin",
           "Good"
          ],
          [
           "Charlottenburg-Wilmersdorf, Berlin",
           "Very good"
          ],
          [
           "Mitte, Berlin",
           "Very good"
          ],
          [
           "Friedrichshain-Kreuzberg, Berlin",
           "Very good"
          ],
          [
           "Neukölln, Berlin",
           "Very good"
          ],
          [
           "Mitte, Berlin",
           "Very good"
          ],
          [
           "Mitte, Berlin",
           "Very good"
          ],
          [
           "Friedrichshain-Kreuzberg, Berlin",
           "Very good"
          ],
          [
           "Mitte, Berlin",
           "Review score"
          ],
          [
           "Charlottenburg-Wilmersdorf, Berlin",
           "Very good"
          ],
          [
           "Mitte, Berlin",
           "Very good"
          ],
          [
           "Mitte, Berlin",
           "Good"
          ],
          [
           "Friedrichshain-Kreuzberg, Berlin",
           "Very good"
          ],
          [
           "Tempelhof-Schöneberg, Berlin",
           "Very good"
          ],
          [
           "Prenzlauer Berg, Berlin",
           "Very good"
          ],
          [
           "Mitte, Berlin",
           "Superb"
          ],
          [
           "Charlottenburg-Wilmersdorf, Berlin",
           "Very good"
          ],
          [
           "Mitte, Berlin",
           "Very good"
          ],
          [
           "Tempelhof-Schöneberg, Berlin",
           "Fabulous"
          ],
          [
           "Mitte, Berlin",
           "Good"
          ],
          [
           "Mitte, Berlin",
           "Good"
          ],
          [
           "Tempelhof-Schöneberg, Berlin",
           "Very good"
          ],
          [
           "Mitte, Berlin",
           "Fabulous"
          ],
          [
           "Mitte, Berlin",
           "Very good"
          ],
          [
           "Mitte, Berlin",
           "Fabulous"
          ],
          [
           "Friedrichshain-Kreuzberg, Berlin",
           "Very good"
          ],
          [
           "Mitte, Berlin",
           "Good"
          ],
          [
           "Mitte, Berlin",
           "Very good"
          ],
          [
           "Mitte, Berlin",
           "Superb"
          ],
          [
           "Mitte, Berlin",
           "Very good"
          ],
          [
           "Tempelhof-Schöneberg, Berlin",
           "Good"
          ]
         ],
         "hovertemplate": "<b>%{hovertext}</b><br><br>Price=%{x}<br>Distance (km)=%{y}<br>Location=%{customdata[0]}<br>Comment=%{customdata[1]}<br>Rating=%{marker.color}<extra></extra>",
         "hovertext": [
          "Scandic Berlin Kurfürstendamm",
          "Hampton by Hilton Berlin City Centre Alexanderplatz",
          "Hotel Berlin, Berlin, a member of Radisson Individuals",
          "Leonardo Royal Hotel Berlin Alexanderplatz",
          "Motel One Berlin-Spittelmarkt",
          "VISIONAPARTMENTS Otto-Braun-Strasse - contactless check-in",
          "Motel One Berlin-Alexanderplatz",
          "Max Brown Hotel Ku'damm, part of Sircle Collection",
          "NH Collection Berlin Mitte Friedrichstrasse",
          "Leonardo Hotel Berlin Mitte",
          "Nena Apartments Moritzplatz",
          "H10 Berlin Ku'damm",
          "ibis Styles Hotel Berlin Mitte",
          "Generator Berlin Mitte",
          "NH Collection Berlin Mitte am Checkpoint Charlie",
          "aletto Hotel Potsdamer Platz",
          "DoubleTree by Hilton Berlin Ku'damm",
          "Dorint Kurfürstendamm Berlin",
          "Maritim proArte Hotel Berlin",
          "Provocateur Berlin, a Member of Design Hotels",
          "The Ritz-Carlton, Berlin",
          "acora Berlin Living the City",
          "Nena Apartments - Kreuzberg 61",
          "Crowne Plaza Berlin City Centre Ku'damm, an IHG Hotel",
          "JW Marriott Hotel Berlin",
          "Max Brown Hotel Ku'damm, part of Sircle Collection",
          "Locke at East Side Gallery",
          "limehome Berlin Müllerstraße - Digital Access",
          "Aparthotel Adagio Berlin Kurfürstendamm",
          "VISIONAPARTMENTS Otto-Braun-Strasse - contactless check-in",
          "Holiday Inn Express Berlin City Centre, an IHG Hotel",
          "aletto Hotel Potsdamer Platz",
          "H10 Berlin Ku'damm",
          "Generator Berlin Alexanderplatz",
          "Novum Hotel Aldea Berlin Centrum",
          "ipartment Berlin Mitte",
          "JW Marriott Hotel Berlin",
          "The Westin Grand Berlin",
          "Generator Berlin Mitte",
          "Victor's Residenz-Hotel Berlin",
          "AC Hotel by Marriott Berlin Humboldthain Park",
          "STAYERY Berlin Friedrichshain",
          "Schoenhouse City Street",
          "acora Berlin Living the City",
          "AMANO East Side",
          "Moxy Berlin Ostbahnhof",
          "Select Hotel Berlin The Wall",
          "Gold Palais Hotel",
          "sly Berlin",
          "The Ritz-Carlton, Berlin",
          "H+ Hotel 4Youth",
          "Leonardo Hotel Berlin",
          "Holiday Inn Express - Berlin - Alexanderplatz, an IHG Hotel",
          "Hotel Gat Point Charlie",
          "Aeronaut Service Apartments Neukölln-Kreuzberg by Pearl 1",
          "Hotel Palace Berlin",
          "Living Hotel Berlin Mitte",
          "The Mandala Suites",
          "Holiday Inn Berlin City-West, an IHG Hotel",
          "MEININGER Hotel Berlin Hauptbahnhof",
          "STAYERY Berlin Friedrichshain",
          "Premier Inn Berlin Airport",
          "Schlosshotel Berlin by Patrick Hellmann",
          "Hotel Augusta Am Kurfürstendamm",
          "Maritim proArte Hotel Berlin",
          "the niu Hide",
          "a&o Berlin Hauptbahnhof",
          "ibis Styles Hotel Berlin Mitte",
          "Eurostars Berlin",
          "Scandic Berlin Kurfürstendamm",
          "Ibis Berlin Hauptbahnhof",
          "Holiday Inn Express Berlin City Centre, an IHG Hotel",
          "Leonardo Boutique Hotel Berlin City South",
          "Classik Hotel Alexander Plaza",
          "Select Hotel Berlin The Wall - Apartments",
          "Nena Apartments Moritzplatz",
          "Alper Hotel am Potsdamer Platz",
          "Hotel Indigo Berlin – Ku’damm, an IHG Hotel",
          "limehome Berlin Müllerstraße - Digital Access",
          "Classik Hotel Hackescher Markt",
          "NH Berlin Alexanderplatz",
          "limehome Berlin Luise Henriette Str - Digital Access",
          "limehome Berlin Prenzlauer Allee - Digital Access",
          "The Mandala Suites",
          "Aparthotel Adagio Berlin Kurfürstendamm",
          "Meliá Berlin",
          "Mercure Berlin Wittenbergplatz",
          "MOXY Berlin Humboldthain Park",
          "Sheraton Berlin Grand Hotel Esplanade",
          "ibis Berlin Kurfuerstendamm",
          "Courtyard by Marriott Berlin City Center",
          "Living Hotel Berlin Mitte",
          "Adina Apartment Hotel Berlin Checkpoint Charlie",
          "Crowne Plaza Berlin - Potsdamer Platz, an IHG Hotel",
          "H+ Hotel 4Youth",
          "Mercure Hotel MOA Berlin",
          "Hotel Adlon Kempinski Berlin",
          "Nena Apartments Metropolpark Berlin - Mitte -Adult Only",
          "ibis budget Berlin Kurfürstendamm"
         ],
         "legendgroup": "",
         "marker": {
          "color": [
           8.1,
           8.1,
           7.9,
           8.4,
           8.7,
           7.4,
           8.7,
           8.3,
           8.6,
           8.1,
           8,
           8.3,
           8,
           7.4,
           8.3,
           8.7,
           8.8,
           8.3,
           8,
           8.7,
           9,
           7.5,
           8,
           8.3,
           8.1,
           8.3,
           9.2,
           8.3,
           8.3,
           7.4,
           8.1,
           8.7,
           8.3,
           7.2,
           7.1,
           8.3,
           8.1,
           8.6,
           7.4,
           7.9,
           8,
           8.6,
           8.4,
           7.5,
           8.3,
           8.1,
           8.4,
           8.3,
           9.1,
           9,
           7.8,
           7.9,
           8.3,
           8.1,
           8.1,
           8.8,
           8.2,
           9,
           7.2,
           7.4,
           8.6,
           8.8,
           8.7,
           8.1,
           8,
           8.4,
           7.2,
           8,
           7.9,
           8.1,
           8.2,
           8.1,
           8.1,
           8.5,
           8.2,
           8,
           5.2,
           8.5,
           8.3,
           7.5,
           8.1,
           8.4,
           8.3,
           9,
           8.3,
           8.4,
           8.7,
           7.9,
           7.8,
           8,
           8.7,
           8.2,
           8.6,
           8.4,
           7.8,
           8.3,
           9.2,
           8.2,
           7.6
          ],
          "coloraxis": "coloraxis",
          "symbol": "circle"
         },
         "mode": "markers",
         "name": "",
         "orientation": "v",
         "showlegend": false,
         "type": "scatter",
         "x": [
          22426,
          20339,
          16441,
          15474,
          18414,
          14824,
          18414,
          16070,
          20252,
          18160,
          18281,
          19476,
          14834,
          12927,
          19865,
          14818,
          21445,
          23762,
          24706,
          26659,
          49607,
          13774,
          18757,
          21583,
          25010,
          17758,
          19767,
          16284,
          18665,
          16380,
          20131,
          16373,
          19476,
          12325,
          12260,
          22973,
          25010,
          41087,
          14284,
          22227,
          19010,
          20444,
          19754,
          13774,
          21210,
          19541,
          15794,
          23223,
          28717,
          49607,
          20406,
          15150,
          20028,
          17967,
          29769,
          24848,
          24220,
          35942,
          16067,
          15373,
          20444,
          9928,
          52742,
          20784,
          24706,
          15631,
          15820,
          14834,
          23605,
          22426,
          19121,
          20131,
          13171,
          25261,
          20328,
          18281,
          13693,
          19307,
          16284,
          16765,
          16954,
          14223,
          17521,
          34091,
          18665,
          30644,
          19039,
          19273,
          24704,
          15892,
          28033,
          21919,
          22873,
          18864,
          20406,
          21196,
          54402,
          19556,
          13519
         ],
         "xaxis": "x",
         "y": [
          3.2,
          3,
          2.1,
          3.4,
          1.7,
          3,
          2.4,
          4.2,
          0.9,
          0.9,
          2.8,
          3.4,
          2.3,
          1.4,
          1,
          1.8,
          3.2,
          3.4,
          0.8,
          5.1,
          0.7,
          3.4,
          2.6,
          2.8,
          1.3,
          4.2,
          4.2,
          3,
          4.2,
          3,
          1.7,
          1.8,
          3.4,
          2.9,
          2.3,
          3.3,
          1.3,
          0.8,
          1.4,
          3.8,
          3.7,
          6.1,
          2.7,
          3.4,
          3.8,
          3.7,
          1.2,
          3.6,
          4.9,
          0.7,
          3.1,
          4.9,
          2.4,
          1.1,
          5.2,
          2.8,
          2.2,
          1,
          8.2,
          1.1,
          6.1,
          17.3,
          8,
          3.7,
          0.8,
          6.8,
          1.7,
          2.3,
          0.9,
          3.2,
          1.3,
          1.7,
          10.5,
          2,
          1.2,
          2.8,
          1.6,
          3.4,
          3,
          1.8,
          4.2,
          5.8,
          3.2,
          1,
          4.2,
          1,
          2.9,
          3.7,
          1.9,
          2.7,
          1.7,
          2.2,
          1.6,
          1.7,
          3.1,
          2.8,
          0.2,
          2.6,
          2.6
         ],
         "yaxis": "y"
        }
       ],
       "layout": {
        "coloraxis": {
         "colorbar": {
          "title": {
           "text": "Rating"
          }
         },
         "colorscale": [
          [
           0,
           "#0d0887"
          ],
          [
           0.1111111111111111,
           "#46039f"
          ],
          [
           0.2222222222222222,
           "#7201a8"
          ],
          [
           0.3333333333333333,
           "#9c179e"
          ],
          [
           0.4444444444444444,
           "#bd3786"
          ],
          [
           0.5555555555555556,
           "#d8576b"
          ],
          [
           0.6666666666666666,
           "#ed7953"
          ],
          [
           0.7777777777777778,
           "#fb9f3a"
          ],
          [
           0.8888888888888888,
           "#fdca26"
          ],
          [
           1,
           "#f0f921"
          ]
         ]
        },
        "legend": {
         "tracegroupgap": 0
        },
        "template": {
         "data": {
          "bar": [
           {
            "error_x": {
             "color": "#2a3f5f"
            },
            "error_y": {
             "color": "#2a3f5f"
            },
            "marker": {
             "line": {
              "color": "#E5ECF6",
              "width": 0.5
             },
             "pattern": {
              "fillmode": "overlay",
              "size": 10,
              "solidity": 0.2
             }
            },
            "type": "bar"
           }
          ],
          "barpolar": [
           {
            "marker": {
             "line": {
              "color": "#E5ECF6",
              "width": 0.5
             },
             "pattern": {
              "fillmode": "overlay",
              "size": 10,
              "solidity": 0.2
             }
            },
            "type": "barpolar"
           }
          ],
          "carpet": [
           {
            "aaxis": {
             "endlinecolor": "#2a3f5f",
             "gridcolor": "white",
             "linecolor": "white",
             "minorgridcolor": "white",
             "startlinecolor": "#2a3f5f"
            },
            "baxis": {
             "endlinecolor": "#2a3f5f",
             "gridcolor": "white",
             "linecolor": "white",
             "minorgridcolor": "white",
             "startlinecolor": "#2a3f5f"
            },
            "type": "carpet"
           }
          ],
          "choropleth": [
           {
            "colorbar": {
             "outlinewidth": 0,
             "ticks": ""
            },
            "type": "choropleth"
           }
          ],
          "contour": [
           {
            "colorbar": {
             "outlinewidth": 0,
             "ticks": ""
            },
            "colorscale": [
             [
              0,
              "#0d0887"
             ],
             [
              0.1111111111111111,
              "#46039f"
             ],
             [
              0.2222222222222222,
              "#7201a8"
             ],
             [
              0.3333333333333333,
              "#9c179e"
             ],
             [
              0.4444444444444444,
              "#bd3786"
             ],
             [
              0.5555555555555556,
              "#d8576b"
             ],
             [
              0.6666666666666666,
              "#ed7953"
             ],
             [
              0.7777777777777778,
              "#fb9f3a"
             ],
             [
              0.8888888888888888,
              "#fdca26"
             ],
             [
              1,
              "#f0f921"
             ]
            ],
            "type": "contour"
           }
          ],
          "contourcarpet": [
           {
            "colorbar": {
             "outlinewidth": 0,
             "ticks": ""
            },
            "type": "contourcarpet"
           }
          ],
          "heatmap": [
           {
            "colorbar": {
             "outlinewidth": 0,
             "ticks": ""
            },
            "colorscale": [
             [
              0,
              "#0d0887"
             ],
             [
              0.1111111111111111,
              "#46039f"
             ],
             [
              0.2222222222222222,
              "#7201a8"
             ],
             [
              0.3333333333333333,
              "#9c179e"
             ],
             [
              0.4444444444444444,
              "#bd3786"
             ],
             [
              0.5555555555555556,
              "#d8576b"
             ],
             [
              0.6666666666666666,
              "#ed7953"
             ],
             [
              0.7777777777777778,
              "#fb9f3a"
             ],
             [
              0.8888888888888888,
              "#fdca26"
             ],
             [
              1,
              "#f0f921"
             ]
            ],
            "type": "heatmap"
           }
          ],
          "heatmapgl": [
           {
            "colorbar": {
             "outlinewidth": 0,
             "ticks": ""
            },
            "colorscale": [
             [
              0,
              "#0d0887"
             ],
             [
              0.1111111111111111,
              "#46039f"
             ],
             [
              0.2222222222222222,
              "#7201a8"
             ],
             [
              0.3333333333333333,
              "#9c179e"
             ],
             [
              0.4444444444444444,
              "#bd3786"
             ],
             [
              0.5555555555555556,
              "#d8576b"
             ],
             [
              0.6666666666666666,
              "#ed7953"
             ],
             [
              0.7777777777777778,
              "#fb9f3a"
             ],
             [
              0.8888888888888888,
              "#fdca26"
             ],
             [
              1,
              "#f0f921"
             ]
            ],
            "type": "heatmapgl"
           }
          ],
          "histogram": [
           {
            "marker": {
             "pattern": {
              "fillmode": "overlay",
              "size": 10,
              "solidity": 0.2
             }
            },
            "type": "histogram"
           }
          ],
          "histogram2d": [
           {
            "colorbar": {
             "outlinewidth": 0,
             "ticks": ""
            },
            "colorscale": [
             [
              0,
              "#0d0887"
             ],
             [
              0.1111111111111111,
              "#46039f"
             ],
             [
              0.2222222222222222,
              "#7201a8"
             ],
             [
              0.3333333333333333,
              "#9c179e"
             ],
             [
              0.4444444444444444,
              "#bd3786"
             ],
             [
              0.5555555555555556,
              "#d8576b"
             ],
             [
              0.6666666666666666,
              "#ed7953"
             ],
             [
              0.7777777777777778,
              "#fb9f3a"
             ],
             [
              0.8888888888888888,
              "#fdca26"
             ],
             [
              1,
              "#f0f921"
             ]
            ],
            "type": "histogram2d"
           }
          ],
          "histogram2dcontour": [
           {
            "colorbar": {
             "outlinewidth": 0,
             "ticks": ""
            },
            "colorscale": [
             [
              0,
              "#0d0887"
             ],
             [
              0.1111111111111111,
              "#46039f"
             ],
             [
              0.2222222222222222,
              "#7201a8"
             ],
             [
              0.3333333333333333,
              "#9c179e"
             ],
             [
              0.4444444444444444,
              "#bd3786"
             ],
             [
              0.5555555555555556,
              "#d8576b"
             ],
             [
              0.6666666666666666,
              "#ed7953"
             ],
             [
              0.7777777777777778,
              "#fb9f3a"
             ],
             [
              0.8888888888888888,
              "#fdca26"
             ],
             [
              1,
              "#f0f921"
             ]
            ],
            "type": "histogram2dcontour"
           }
          ],
          "mesh3d": [
           {
            "colorbar": {
             "outlinewidth": 0,
             "ticks": ""
            },
            "type": "mesh3d"
           }
          ],
          "parcoords": [
           {
            "line": {
             "colorbar": {
              "outlinewidth": 0,
              "ticks": ""
             }
            },
            "type": "parcoords"
           }
          ],
          "pie": [
           {
            "automargin": true,
            "type": "pie"
           }
          ],
          "scatter": [
           {
            "fillpattern": {
             "fillmode": "overlay",
             "size": 10,
             "solidity": 0.2
            },
            "type": "scatter"
           }
          ],
          "scatter3d": [
           {
            "line": {
             "colorbar": {
              "outlinewidth": 0,
              "ticks": ""
             }
            },
            "marker": {
             "colorbar": {
              "outlinewidth": 0,
              "ticks": ""
             }
            },
            "type": "scatter3d"
           }
          ],
          "scattercarpet": [
           {
            "marker": {
             "colorbar": {
              "outlinewidth": 0,
              "ticks": ""
             }
            },
            "type": "scattercarpet"
           }
          ],
          "scattergeo": [
           {
            "marker": {
             "colorbar": {
              "outlinewidth": 0,
              "ticks": ""
             }
            },
            "type": "scattergeo"
           }
          ],
          "scattergl": [
           {
            "marker": {
             "colorbar": {
              "outlinewidth": 0,
              "ticks": ""
             }
            },
            "type": "scattergl"
           }
          ],
          "scattermapbox": [
           {
            "marker": {
             "colorbar": {
              "outlinewidth": 0,
              "ticks": ""
             }
            },
            "type": "scattermapbox"
           }
          ],
          "scatterpolar": [
           {
            "marker": {
             "colorbar": {
              "outlinewidth": 0,
              "ticks": ""
             }
            },
            "type": "scatterpolar"
           }
          ],
          "scatterpolargl": [
           {
            "marker": {
             "colorbar": {
              "outlinewidth": 0,
              "ticks": ""
             }
            },
            "type": "scatterpolargl"
           }
          ],
          "scatterternary": [
           {
            "marker": {
             "colorbar": {
              "outlinewidth": 0,
              "ticks": ""
             }
            },
            "type": "scatterternary"
           }
          ],
          "surface": [
           {
            "colorbar": {
             "outlinewidth": 0,
             "ticks": ""
            },
            "colorscale": [
             [
              0,
              "#0d0887"
             ],
             [
              0.1111111111111111,
              "#46039f"
             ],
             [
              0.2222222222222222,
              "#7201a8"
             ],
             [
              0.3333333333333333,
              "#9c179e"
             ],
             [
              0.4444444444444444,
              "#bd3786"
             ],
             [
              0.5555555555555556,
              "#d8576b"
             ],
             [
              0.6666666666666666,
              "#ed7953"
             ],
             [
              0.7777777777777778,
              "#fb9f3a"
             ],
             [
              0.8888888888888888,
              "#fdca26"
             ],
             [
              1,
              "#f0f921"
             ]
            ],
            "type": "surface"
           }
          ],
          "table": [
           {
            "cells": {
             "fill": {
              "color": "#EBF0F8"
             },
             "line": {
              "color": "white"
             }
            },
            "header": {
             "fill": {
              "color": "#C8D4E3"
             },
             "line": {
              "color": "white"
             }
            },
            "type": "table"
           }
          ]
         },
         "layout": {
          "annotationdefaults": {
           "arrowcolor": "#2a3f5f",
           "arrowhead": 0,
           "arrowwidth": 1
          },
          "autotypenumbers": "strict",
          "coloraxis": {
           "colorbar": {
            "outlinewidth": 0,
            "ticks": ""
           }
          },
          "colorscale": {
           "diverging": [
            [
             0,
             "#8e0152"
            ],
            [
             0.1,
             "#c51b7d"
            ],
            [
             0.2,
             "#de77ae"
            ],
            [
             0.3,
             "#f1b6da"
            ],
            [
             0.4,
             "#fde0ef"
            ],
            [
             0.5,
             "#f7f7f7"
            ],
            [
             0.6,
             "#e6f5d0"
            ],
            [
             0.7,
             "#b8e186"
            ],
            [
             0.8,
             "#7fbc41"
            ],
            [
             0.9,
             "#4d9221"
            ],
            [
             1,
             "#276419"
            ]
           ],
           "sequential": [
            [
             0,
             "#0d0887"
            ],
            [
             0.1111111111111111,
             "#46039f"
            ],
            [
             0.2222222222222222,
             "#7201a8"
            ],
            [
             0.3333333333333333,
             "#9c179e"
            ],
            [
             0.4444444444444444,
             "#bd3786"
            ],
            [
             0.5555555555555556,
             "#d8576b"
            ],
            [
             0.6666666666666666,
             "#ed7953"
            ],
            [
             0.7777777777777778,
             "#fb9f3a"
            ],
            [
             0.8888888888888888,
             "#fdca26"
            ],
            [
             1,
             "#f0f921"
            ]
           ],
           "sequentialminus": [
            [
             0,
             "#0d0887"
            ],
            [
             0.1111111111111111,
             "#46039f"
            ],
            [
             0.2222222222222222,
             "#7201a8"
            ],
            [
             0.3333333333333333,
             "#9c179e"
            ],
            [
             0.4444444444444444,
             "#bd3786"
            ],
            [
             0.5555555555555556,
             "#d8576b"
            ],
            [
             0.6666666666666666,
             "#ed7953"
            ],
            [
             0.7777777777777778,
             "#fb9f3a"
            ],
            [
             0.8888888888888888,
             "#fdca26"
            ],
            [
             1,
             "#f0f921"
            ]
           ]
          },
          "colorway": [
           "#636efa",
           "#EF553B",
           "#00cc96",
           "#ab63fa",
           "#FFA15A",
           "#19d3f3",
           "#FF6692",
           "#B6E880",
           "#FF97FF",
           "#FECB52"
          ],
          "font": {
           "color": "#2a3f5f"
          },
          "geo": {
           "bgcolor": "white",
           "lakecolor": "white",
           "landcolor": "#E5ECF6",
           "showlakes": true,
           "showland": true,
           "subunitcolor": "white"
          },
          "hoverlabel": {
           "align": "left"
          },
          "hovermode": "closest",
          "mapbox": {
           "style": "light"
          },
          "paper_bgcolor": "white",
          "plot_bgcolor": "#E5ECF6",
          "polar": {
           "angularaxis": {
            "gridcolor": "white",
            "linecolor": "white",
            "ticks": ""
           },
           "bgcolor": "#E5ECF6",
           "radialaxis": {
            "gridcolor": "white",
            "linecolor": "white",
            "ticks": ""
           }
          },
          "scene": {
           "xaxis": {
            "backgroundcolor": "#E5ECF6",
            "gridcolor": "white",
            "gridwidth": 2,
            "linecolor": "white",
            "showbackground": true,
            "ticks": "",
            "zerolinecolor": "white"
           },
           "yaxis": {
            "backgroundcolor": "#E5ECF6",
            "gridcolor": "white",
            "gridwidth": 2,
            "linecolor": "white",
            "showbackground": true,
            "ticks": "",
            "zerolinecolor": "white"
           },
           "zaxis": {
            "backgroundcolor": "#E5ECF6",
            "gridcolor": "white",
            "gridwidth": 2,
            "linecolor": "white",
            "showbackground": true,
            "ticks": "",
            "zerolinecolor": "white"
           }
          },
          "shapedefaults": {
           "line": {
            "color": "#2a3f5f"
           }
          },
          "ternary": {
           "aaxis": {
            "gridcolor": "white",
            "linecolor": "white",
            "ticks": ""
           },
           "baxis": {
            "gridcolor": "white",
            "linecolor": "white",
            "ticks": ""
           },
           "bgcolor": "#E5ECF6",
           "caxis": {
            "gridcolor": "white",
            "linecolor": "white",
            "ticks": ""
           }
          },
          "title": {
           "x": 0.05
          },
          "xaxis": {
           "automargin": true,
           "gridcolor": "white",
           "linecolor": "white",
           "ticks": "",
           "title": {
            "standoff": 15
           },
           "zerolinecolor": "white",
           "zerolinewidth": 2
          },
          "yaxis": {
           "automargin": true,
           "gridcolor": "white",
           "linecolor": "white",
           "ticks": "",
           "title": {
            "standoff": 15
           },
           "zerolinecolor": "white",
           "zerolinewidth": 2
          }
         }
        },
        "title": {
         "text": "Hotel Price and Distance Scatter Plot"
        },
        "xaxis": {
         "anchor": "y",
         "domain": [
          0,
          1
         ],
         "title": {
          "text": "Price"
         }
        },
        "yaxis": {
         "anchor": "x",
         "domain": [
          0,
          1
         ],
         "title": {
          "text": "Distance (km)"
         }
        }
       }
      }
     },
     "metadata": {},
     "output_type": "display_data"
    }
   ],
   "source": [
    "df_plot = df.dropna(subset=['Price', 'Distance', 'Rating'])\n",
    "\n",
    "fig = px.scatter(df_plot, x='Price', y='Distance', color='Rating', hover_name=\"Name\", hover_data=['Location', 'Comment'],\n",
    "                         labels={\"Price\": \"Price\", \"Distance\": \"Distance (km)\", \"Rating\": \"Rating\"},\n",
    "                         title=\"Hotel Price and Distance Scatter Plot\")\n",
    "\n",
    "# Show the plot\n",
    "fig.show()"
   ]
  }
 ],
 "metadata": {
  "kernelspec": {
   "display_name": "Python 3",
   "language": "python",
   "name": "python3"
  },
  "language_info": {
   "codemirror_mode": {
    "name": "ipython",
    "version": 3
   },
   "file_extension": ".py",
   "mimetype": "text/x-python",
   "name": "python",
   "nbconvert_exporter": "python",
   "pygments_lexer": "ipython3",
   "version": "3.9.13"
  }
 },
 "nbformat": 4,
 "nbformat_minor": 2
}
