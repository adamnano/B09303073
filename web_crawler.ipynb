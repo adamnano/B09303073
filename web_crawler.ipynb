{
 "cells": [
  {
   "cell_type": "code",
   "execution_count": 26,
   "metadata": {},
   "outputs": [],
   "source": [
    "# imports\n",
    "import requests\n",
    "from bs4 import BeautifulSoup\n",
    "import pandas as pd\n",
    "from datetime import datetime\n",
    "import random\n",
    "import time\n",
    "import numpy as np\n",
    "import plotly.express as px"
   ]
  },
  {
   "cell_type": "code",
   "execution_count": 62,
   "metadata": {},
   "outputs": [
    {
     "name": "stdout",
     "output_type": "stream",
     "text": [
      "0\n",
      "25\n",
      "50\n",
      "                                         Name Location     Price Rating  \\\n",
      "0                              Walker-Taoyuan  Taoyuan  No Price    7.5   \n",
      "1                         Honest & Warm Hotel  Taoyuan  No Price    8.2   \n",
      "2   Holiday Inn Express Taoyuan, an IHG Hotel  Taoyuan  No Price    8.1   \n",
      "3                  Audi Garden Business Hotel  Taoyuan  No Price    7.5   \n",
      "4                         Monarch Plaza Hotel  Taoyuan  No Price    7.7   \n",
      "5               City Suites - Taoyuan Station  Taoyuan  No Price    8.2   \n",
      "6                                   191 Hotel  Taoyuan  No Price    8.1   \n",
      "7                            Tao Garden Hotel  Taoyuan  No Price    8.1   \n",
      "8                         Duke Business Hotel  Taoyuan  No Price    7.7   \n",
      "9              綺樂文旅 桃園館 Le Room Hotel Taoyuan  Taoyuan  No Price    7.8   \n",
      "10                            Ying Zhen Hotel  Taoyuan  No Price    7.4   \n",
      "11                                    Tag inn  Taoyuan  No Price    7.7   \n",
      "12                              Hua Yue Hotel  Taoyuan  No Price    7.2   \n",
      "13                                   蓮園旅舘-桃園店  Taoyuan  No Price    6.9   \n",
      "14                          Well Garden Hotel  Taoyuan  No Price    7.4   \n",
      "15                 Guide Hotel Taoyuan Fuxing  Taoyuan  No Price    7.2   \n",
      "16                   Minimalist Fashion Motel  Taoyuan  No Price    8.4   \n",
      "17                                 Soho Motel  Taoyuan  No Price    8.5   \n",
      "18                                   QK Motel  Taoyuan  No Price    7.1   \n",
      "19                               King Motel王者  Taoyuan  No Price    8.1   \n",
      "20                            Hara Zuru Hotel  Taoyuan  No Price    7.6   \n",
      "21                           Metropolis Hotel  Taoyuan  No Price    8.3   \n",
      "22                               Kai Fu Hotel  Taoyuan  No Price    7.4   \n",
      "23                             JIASHITE HOTEL  Taoyuan  No Price    7.6   \n",
      "24                                   ZC Motel  Taoyuan  No Price    7.8   \n",
      "25                               Li Hua Hotel  Taoyuan  No Price    5.6   \n",
      "26                                 里萊行旅 - 桃園館  Taoyuan  No Price    7.9   \n",
      "27                   Jing Dian Business Hotel  Taoyuan  No Price    6.5   \n",
      "28                    The Yorker Deluxe Motel  Taoyuan  No Price    7.8   \n",
      "29                        If Motel In Fashion  Taoyuan  No Price    8.2   \n",
      "\n",
      "              Distance       Comment  \n",
      "0    350 m from centre          Good  \n",
      "1    350 m from centre     Very good  \n",
      "2     2 km from centre     Very good  \n",
      "3    350 m from centre          Good  \n",
      "4   3.7 km from centre          Good  \n",
      "5    250 m from centre     Very good  \n",
      "6    300 m from centre     Very good  \n",
      "7    450 m from centre     Very good  \n",
      "8    250 m from centre          Good  \n",
      "9    450 m from centre          Good  \n",
      "10  1.3 km from centre          Good  \n",
      "11  0.8 km from centre          Good  \n",
      "12  0.7 km from centre          Good  \n",
      "13   300 m from centre  Review score  \n",
      "14  1.7 km from centre          Good  \n",
      "15  0.5 km from centre          Good  \n",
      "16  2.9 km from centre     Very good  \n",
      "17  2.5 km from centre     Very good  \n",
      "18  4.3 km from centre          Good  \n",
      "19  3.1 km from centre     Very good  \n",
      "20  2.1 km from centre          Good  \n",
      "21  2.2 km from centre     Very good  \n",
      "22  4.6 km from centre          Good  \n",
      "23   400 m from centre          Good  \n",
      "24  2.2 km from centre          Good  \n",
      "25   400 m from centre  Review score  \n",
      "26  3.5 km from centre          Good  \n",
      "27   250 m from centre  Review score  \n",
      "28  1.5 km from centre          Good  \n",
      "29  3.7 km from centre     Very good  \n"
     ]
    }
   ],
   "source": [
    "#STEP 1\n",
    "\n",
    "def fetch_hotel_data(city, checkin_date, checkout_date):\n",
    "    checkin_date = datetime.strptime(checkin_date, \"%Y-%m-%d\").strftime(\"%Y-%m-%d\")\n",
    "    checkout_date = datetime.strptime(checkout_date, \"%Y-%m-%d\").strftime(\"%Y-%m-%d\")\n",
    "\n",
    "    headers = {\n",
    "        #\"User-Agent\": \"Mozilla/5.0 (Windows NT 10.0; Win64; x64) AppleWebKit/537.36 (KHTML, like Gecko) Chrome/58.0.3029.110 Safari/537.3\"\n",
    "        'User-Agent': 'Mozilla/5.0 (Macintosh; Intel Mac OS X 10_15_7) AppleWebKit/537.36 (KHTML, like Gecko) Chrome/114.0.0.0 Safari/537.36',\n",
    "        'Accept-Language': 'en-US, en;q=0.5'\n",
    "    }\n",
    "\n",
    "    hotels = []\n",
    "\n",
    "    page = 0\n",
    "\n",
    "    while True:\n",
    "        # Update URL with the current page number\n",
    "        offset = page * 25\n",
    "        #location = \"Taichung\"\n",
    "        #base_url = 'https://www.booking.com/searchresults.html?ss={}&checkin_year_month_monthday={}&checkout_year_month_monthday={}&rows=25&offset={}'\n",
    "        base_url = \"https://www.booking.com/searchresults.en-gb.html?ss={}&checkin={}&checkout={}&offset={}\"\n",
    "        # Fetch the page content\n",
    "        url = base_url.format(city, checkin_date, checkout_date, offset)\n",
    "        print(offset)\n",
    "        #print(url)\n",
    "        response = requests.get(url, headers=headers)\n",
    "        #print(response.status_code)\n",
    "        #time.sleep(0.2)\n",
    "        #print(response.status_code)\n",
    "        soup = BeautifulSoup(response.content, 'html.parser')\n",
    "        #time.sleep(0.2)\n",
    "        information = soup.find('h1', class_='f6431b446c d5f78961c3').get_text(strip=True) if soup.find('h1', class_='f6431b446c d5f78961c3') else \"No Information\"\n",
    "        if information == \"No Information\":\n",
    "            break\n",
    "        # else:\n",
    "        #     print(information)\n",
    "\n",
    "        # Extract hotel data\n",
    "        hotel_boxes = soup.find_all(\"div\", class_=\"c82435a4b8 a178069f51 a6ae3c2b40 a18aeea94d d794b7a0f7 f53e278e95 c6710787a4\")  # Update with the correct class name\n",
    "        #print(hotel_boxes)\n",
    "\n",
    "        if hotel_boxes == []:\n",
    "            break  # Break if no hotels are found (end of pages)\n",
    "\n",
    "            \n",
    "        for hotel_box in hotel_boxes:\n",
    "            name = hotel_box.find('div', class_='f6431b446c a15b38c233').get_text(strip=True) if hotel_box.find('div', class_='f6431b446c a15b38c233') else \"No Name\"\n",
    "            location = hotel_box.find('span', class_='aee5343fdb def9bc142a').get_text(strip=True) if hotel_box.find('span', class_='aee5343fdb def9bc142a') else \"No Location\"\n",
    "\n",
    "            price = hotel_box.find(\"div\", xpath=\"/html/body/div[5]/div/div[4]/div/div[2]/div[3]/div[2]/div[2]/div[3]/div[38]/div[1]/div[2]/div/div[2]/div[2]/div/div[1]/span/div/div[1]/span[1]\").text.get_text(strip=True) if hotel_box.find(\"div\", xpath=\"/html/body/div[5]/div/div[4]/div/div[2]/div[3]/div[2]/div[2]/div[3]/div[38]/div[1]/div[2]/div/div[2]/div[2]/div/div[1]/span/div/div[1]/span[1]\") else \"No Price\"\n",
    "\n",
    "            rating = hotel_box.find(\"div\", class_=\"a3b8729ab1 d86cee9b25\").get_text(strip=True) if hotel_box.find(\"div\", class_=\"a3b8729ab1 d86cee9b25\") else \"No Rating\"\n",
    "            distance = hotel_box.find(\"span\", {\"data-testid\": \"distance\"}).get_text(strip=True) if hotel_box.find(\"span\", {\"data-testid\": \"distance\"}) else \"No Distance\"\n",
    "            comment = hotel_box.find('div', class_='a3b8729ab1 e6208ee469 cb2cbb3ccb').get_text(strip=True) if hotel_box.find('div', class_='a3b8729ab1 e6208ee469 cb2cbb3ccb') else \"No Comment\"\n",
    "\n",
    "            #print(name)\n",
    "            hotels.append({\"Name\": name, \"Location\": location, \"Price\": price, \"Rating\": rating, \"Distance\": distance, \"Comment\": comment})\n",
    "\n",
    "        page += 1\n",
    "\n",
    "    return pd.DataFrame(hotels)\n",
    "\n",
    "# Example usage\n",
    "# df = fetch_hotel_data(\"Taoyuan\", \"2023-12-15\", \"2023-12-18\")\n",
    "# print(df)\n",
    "\n",
    "df = fetch_hotel_data(input(\"city\"), input(\"check-in\"), input(\"check-out\"))\n",
    "print(df)\n"
   ]
  },
  {
   "cell_type": "code",
   "execution_count": 60,
   "metadata": {},
   "outputs": [
    {
     "name": "stdout",
     "output_type": "stream",
     "text": [
      "Name         object\n",
      "Location     object\n",
      "Price         Int64\n",
      "Rating      float64\n",
      "Distance    float64\n",
      "Comment      object\n",
      "dtype: object\n",
      "                                         Name Location  Price  Rating  \\\n",
      "0                              Walker-Taoyuan  Taoyuan   2758     7.5   \n",
      "1                         Honest & Warm Hotel  Taoyuan   2758     8.2   \n",
      "2               City Suites - Taoyuan Station  Taoyuan   2758     8.2   \n",
      "3                  Audi Garden Business Hotel  Taoyuan   2758     7.5   \n",
      "4   Holiday Inn Express Taoyuan, an IHG Hotel  Taoyuan   2758     8.1   \n",
      "5                         Duke Business Hotel  Taoyuan   2758     7.7   \n",
      "6                      Six Star Motel-Taoyuan  Taoyuan   2758     8.7   \n",
      "7              綺樂文旅 桃園館 Le Room Hotel Taoyuan  Taoyuan   2758     7.8   \n",
      "8                         Monarch Plaza Hotel  Taoyuan   2758     7.7   \n",
      "9                            Tao Garden Hotel  Taoyuan   2758     8.1   \n",
      "10                                  191 Hotel  Taoyuan   2758     8.1   \n",
      "11                            Ying Zhen Hotel  Taoyuan   2758     7.4   \n",
      "12                                   蓮園旅舘-桃園店  Taoyuan   2758     6.9   \n",
      "13                              Hua Yue Hotel  Taoyuan   2758     7.2   \n",
      "14                   Minimalist Fashion Motel  Taoyuan   2758     8.4   \n",
      "15                                    Tag inn  Taoyuan   2758     7.7   \n",
      "16                             JIASHITE HOTEL  Taoyuan   2758     7.6   \n",
      "17                                 Soho Motel  Taoyuan   2758     8.5   \n",
      "18                 Guide Hotel Taoyuan Fuxing  Taoyuan   2758     7.2   \n",
      "19                                 里萊行旅 - 桃園館  Taoyuan   2758     7.9   \n",
      "20                               King Motel王者  Taoyuan   2758     8.1   \n",
      "21                           Metropolis Hotel  Taoyuan   2758     8.3   \n",
      "22                               Li Hua Hotel  Taoyuan   2758     5.6   \n",
      "23                          Well Garden Hotel  Taoyuan   2758     7.4   \n",
      "24                                   QK Motel  Taoyuan   2758     7.1   \n",
      "25                               Li Hua Hotel  Taoyuan   2758     5.6   \n",
      "26                                 里萊行旅 - 桃園館  Taoyuan   2758     7.9   \n",
      "27                                   ZC Motel  Taoyuan   2758     7.8   \n",
      "28                    The Yorker Deluxe Motel  Taoyuan   2758     7.8   \n",
      "29                           Metropolis Hotel  Taoyuan   2758     8.3   \n",
      "30                   Jing Dian Business Hotel  Taoyuan   2758     6.5   \n",
      "31                          Chuto Plaza Hotel  Taoyuan   2758     7.9   \n",
      "\n",
      "    Distance       Comment  \n",
      "0       0.35          Good  \n",
      "1       0.35     Very good  \n",
      "2       0.25     Very good  \n",
      "3       0.35          Good  \n",
      "4       2.00     Very good  \n",
      "5       0.25          Good  \n",
      "6       3.60      Fabulous  \n",
      "7       0.45          Good  \n",
      "8       3.70          Good  \n",
      "9       0.45     Very good  \n",
      "10      0.30     Very good  \n",
      "11      1.30          Good  \n",
      "12      0.30  Review score  \n",
      "13      0.70          Good  \n",
      "14      2.90     Very good  \n",
      "15      0.80          Good  \n",
      "16      0.40          Good  \n",
      "17      2.50     Very good  \n",
      "18      0.50          Good  \n",
      "19      3.50          Good  \n",
      "20      3.10     Very good  \n",
      "21      2.20     Very good  \n",
      "22      0.40  Review score  \n",
      "23      1.70          Good  \n",
      "24      4.30          Good  \n",
      "25      0.40  Review score  \n",
      "26      3.50          Good  \n",
      "27      2.20          Good  \n",
      "28      1.50          Good  \n",
      "29      2.20     Very good  \n",
      "30      0.25  Review score  \n",
      "31      2.30          Good  \n"
     ]
    }
   ],
   "source": [
    "#STEP 2\n",
    "\n",
    "#df['Price'] = pd.to_numeric(df['Price'], errors='coerce').astype('Int64')\n",
    "\n",
    "# if Price missing assign random number between 200 and 10000\n",
    "df['Price'] = df['Price'].replace('No Price', np.nan)\n",
    "df['Price'] = df['Price'].fillna(random.randint(200,10000))\n",
    "df['Price'] = df['Price'].astype('Int64')\n",
    "\n",
    "df['Rating'] = pd.to_numeric(df['Rating'], errors='coerce').astype(float)\n",
    "\n",
    "df['Comment'] = df['Comment'].astype(str)\n",
    "\n",
    "# Extract numeric value and unit from Distance, then convert to float kilometers\n",
    "def convert_distance(dist):\n",
    "    if pd.isna(dist):\n",
    "        return np.nan\n",
    "    if 'km' in dist:\n",
    "        return float(dist.split(' ')[0])\n",
    "    if 'm' in dist:\n",
    "        return float(dist.split(' ')[0]) / 1000\n",
    "    return np.nan\n",
    "\n",
    "df['Distance'] = df['Distance'].astype(str).apply(convert_distance)\n",
    "\n",
    "print(df.dtypes)\n",
    "print(df)"
   ]
  },
  {
   "cell_type": "code",
   "execution_count": 61,
   "metadata": {},
   "outputs": [
    {
     "name": "stdout",
     "output_type": "stream",
     "text": [
      "                                        Name Location  Price  Rating  \\\n",
      "0                             Walker-Taoyuan  Taoyuan   2758     7.5   \n",
      "1                        Honest & Warm Hotel  Taoyuan   2758     8.2   \n",
      "2              City Suites - Taoyuan Station  Taoyuan   2758     8.2   \n",
      "3                 Audi Garden Business Hotel  Taoyuan   2758     7.5   \n",
      "4  Holiday Inn Express Taoyuan, an IHG Hotel  Taoyuan   2758     8.1   \n",
      "\n",
      "   Distance    Comment  \n",
      "0      0.35       Good  \n",
      "1      0.35  Very good  \n",
      "2      0.25  Very good  \n",
      "3      0.35       Good  \n",
      "4      2.00  Very good  \n"
     ]
    }
   ],
   "source": [
    "print(df[:5])\n",
    "\n"
   ]
  },
  {
   "cell_type": "code",
   "execution_count": 37,
   "metadata": {},
   "outputs": [
    {
     "data": {
      "application/vnd.plotly.v1+json": {
       "config": {
        "plotlyServerURL": "https://plot.ly"
       },
       "data": [
        {
         "customdata": [
          [
           "Central District, Taichung",
           "Fabulous"
          ],
          [
           "Central District, Taichung",
           "Very good"
          ],
          [
           "North District, Taichung",
           "Superb"
          ],
          [
           "Central District, Taichung",
           "Good"
          ],
          [
           "North District, Taichung",
           "Review score"
          ],
          [
           "Central District, Taichung",
           "Fabulous"
          ],
          [
           "North District, Taichung",
           "Review score"
          ],
          [
           "Xitun District, Taichung",
           "Fabulous"
          ],
          [
           "Xitun District, Taichung",
           "Good"
          ],
          [
           "Central District, Taichung",
           "Very good"
          ],
          [
           "Xitun District, Taichung",
           "Fabulous"
          ],
          [
           "Xitun District, Taichung",
           "Good"
          ],
          [
           "South District, Taichung",
           "Good"
          ],
          [
           "Beitun District, Taichung",
           "Very good"
          ],
          [
           "Xitun District, Taichung",
           "Good"
          ],
          [
           "Xitun District, Taichung",
           "Very good"
          ],
          [
           "Central District, Taichung",
           "Fabulous"
          ],
          [
           "Xitun District, Taichung",
           "Very good"
          ],
          [
           "Xitun District, Taichung",
           "Fabulous"
          ],
          [
           "North District, Taichung",
           "Very good"
          ],
          [
           "Xitun District, Taichung",
           "Fabulous"
          ],
          [
           "Central District, Taichung",
           "Very good"
          ],
          [
           "West District, Taichung",
           "Fabulous"
          ],
          [
           "Central District, Taichung",
           "Very good"
          ],
          [
           "Xitun District, Taichung",
           "Review score"
          ],
          [
           "Central District, Taichung",
           "Fabulous"
          ],
          [
           "North District, Taichung",
           "Very good"
          ],
          [
           "Xitun District, Taichung",
           "Very good"
          ],
          [
           "Xitun District, Taichung",
           "Good"
          ],
          [
           "Xitun District, Taichung",
           "Good"
          ],
          [
           "Central District, Taichung",
           "Very good"
          ],
          [
           "Central District, Taichung",
           "Very good"
          ],
          [
           "West District, Taichung",
           "Fabulous"
          ],
          [
           "Xitun District, Taichung",
           "Fabulous"
          ],
          [
           "North District, Taichung",
           "Very good"
          ],
          [
           "Xitun District, Taichung",
           "Good"
          ],
          [
           "North District, Taichung",
           "Very good"
          ],
          [
           "Xitun District, Taichung",
           "Good"
          ],
          [
           "West District, Taichung",
           "Good"
          ],
          [
           "North District, Taichung",
           "Good"
          ],
          [
           "West District, Taichung",
           "Good"
          ],
          [
           "Xitun District, Taichung",
           "Review score"
          ],
          [
           "East District, Taichung",
           "Good"
          ],
          [
           "Central District, Taichung",
           "Very good"
          ],
          [
           "Central District, Taichung",
           "Fabulous"
          ],
          [
           "Xitun District, Taichung",
           "Exceptional"
          ],
          [
           "West District, Taichung",
           "Good"
          ],
          [
           "Xitun District, Taichung",
           "Very good"
          ],
          [
           "West District, Taichung",
           "Very good"
          ],
          [
           "East District, Taichung",
           "Superb"
          ],
          [
           "Central District, Taichung",
           "Very good"
          ],
          [
           "North District, Taichung",
           "Very good"
          ],
          [
           "Beitun District, Taichung",
           "Good"
          ],
          [
           "West District, Taichung",
           "Very good"
          ],
          [
           "Xitun District, Taichung",
           "Fabulous"
          ],
          [
           "North District, Taichung",
           "Very good"
          ],
          [
           "West District, Taichung",
           "Very good"
          ],
          [
           "Central District, Taichung",
           "Very good"
          ],
          [
           "Xitun District, Taichung",
           "Review score"
          ],
          [
           "Central District, Taichung",
           "Very good"
          ],
          [
           "Beitun District, Taichung",
           "Good"
          ],
          [
           "Central District, Taichung",
           "Good"
          ],
          [
           "Xitun District, Taichung",
           "Very good"
          ],
          [
           "Nantun District, Taichung",
           "Very good"
          ],
          [
           "North District, Taichung",
           "Very good"
          ],
          [
           "Central District, Taichung",
           "Very good"
          ],
          [
           "Central District, Taichung",
           "Very good"
          ],
          [
           "East District, Taichung",
           "Fabulous"
          ],
          [
           "West District, Taichung",
           "Very good"
          ],
          [
           "Xitun District, Taichung",
           "Fabulous"
          ],
          [
           "West District, Taichung",
           "Very good"
          ],
          [
           "Central District, Taichung",
           "Very good"
          ],
          [
           "North District, Taichung",
           "Good"
          ],
          [
           "North District, Taichung",
           "Fabulous"
          ],
          [
           "West District, Taichung",
           "Good"
          ],
          [
           "North District, Taichung",
           "Good"
          ],
          [
           "Central District, Taichung",
           "Very good"
          ],
          [
           "West District, Taichung",
           "Very good"
          ],
          [
           "Xitun District, Taichung",
           "Good"
          ],
          [
           "Xitun District, Taichung",
           "Review score"
          ],
          [
           "North District, Taichung",
           "Good"
          ],
          [
           "North District, Taichung",
           "Good"
          ],
          [
           "North District, Taichung",
           "Very good"
          ],
          [
           "Xitun District, Taichung",
           "Very good"
          ],
          [
           "Central District, Taichung",
           "Good"
          ],
          [
           "Xitun District, Taichung",
           "Very good"
          ],
          [
           "West District, Taichung",
           "Fabulous"
          ],
          [
           "Beitun District, Taichung",
           "Very good"
          ],
          [
           "North District, Taichung",
           "Review score"
          ],
          [
           "Central District, Taichung",
           "Fabulous"
          ],
          [
           "Central District, Taichung",
           "Very good"
          ],
          [
           "West District, Taichung",
           "Fabulous"
          ],
          [
           "Central District, Taichung",
           "Very good"
          ],
          [
           "Xitun District, Taichung",
           "Very good"
          ],
          [
           "Xitun District, Taichung",
           "Good"
          ],
          [
           "North District, Taichung",
           "Very good"
          ],
          [
           "Xitun District, Taichung",
           "Good"
          ],
          [
           "Xitun District, Taichung",
           "Very good"
          ],
          [
           "Central District, Taichung",
           "Very good"
          ],
          [
           "Central District, Taichung",
           "Very good"
          ],
          [
           "North District, Taichung",
           "Superb"
          ],
          [
           "North District, Taichung",
           "Superb"
          ],
          [
           "Xitun District, Taichung",
           "Very good"
          ],
          [
           "Xitun District, Taichung",
           "Very good"
          ],
          [
           "Xitun District, Taichung",
           "Very good"
          ],
          [
           "West District, Taichung",
           "Very good"
          ],
          [
           "North District, Taichung",
           "Very good"
          ],
          [
           "Xitun District, Taichung",
           "Good"
          ],
          [
           "Beitun District, Taichung",
           "Good"
          ],
          [
           "North District, Taichung",
           "Very good"
          ],
          [
           "Central District, Taichung",
           "Very good"
          ],
          [
           "North District, Taichung",
           "Very good"
          ],
          [
           "Beitun District, Taichung",
           "Good"
          ],
          [
           "West District, Taichung",
           "Very good"
          ],
          [
           "Xitun District, Taichung",
           "Very good"
          ],
          [
           "Xitun District, Taichung",
           "Fabulous"
          ],
          [
           "North District, Taichung",
           "Very good"
          ],
          [
           "West District, Taichung",
           "Very good"
          ],
          [
           "Central District, Taichung",
           "Very good"
          ],
          [
           "Xitun District, Taichung",
           "Review score"
          ],
          [
           "West District, Taichung",
           "Fabulous"
          ],
          [
           "Central District, Taichung",
           "Very good"
          ],
          [
           "Beitun District, Taichung",
           "Good"
          ],
          [
           "Xitun District, Taichung",
           "Very good"
          ],
          [
           "Central District, Taichung",
           "Good"
          ],
          [
           "Xitun District, Taichung",
           "Good"
          ],
          [
           "Xitun District, Taichung",
           "Fabulous"
          ],
          [
           "Xitun District, Taichung",
           "Fabulous"
          ],
          [
           "Xitun District, Taichung",
           "Good"
          ],
          [
           "North District, Taichung",
           "Very good"
          ],
          [
           "Xitun District, Taichung",
           "Very good"
          ],
          [
           "North District, Taichung",
           "Very good"
          ],
          [
           "North District, Taichung",
           "Good"
          ],
          [
           "North District, Taichung",
           "Good"
          ],
          [
           "West District, Taichung",
           "Good"
          ],
          [
           "Xitun District, Taichung",
           "Very good"
          ],
          [
           "North District, Taichung",
           "Good"
          ],
          [
           "West District, Taichung",
           "Good"
          ],
          [
           "West District, Taichung",
           "Superb"
          ],
          [
           "Xitun District, Taichung",
           "Very good"
          ],
          [
           "Nantun District, Taichung",
           "Very good"
          ],
          [
           "Central District, Taichung",
           "Very good"
          ],
          [
           "Central District, Taichung",
           "Good"
          ],
          [
           "North District, Taichung",
           "Very good"
          ],
          [
           "Xitun District, Taichung",
           "Good"
          ],
          [
           "Xitun District, Taichung",
           "Very good"
          ],
          [
           "Xitun District, Taichung",
           "Very good"
          ],
          [
           "North District, Taichung",
           "Very good"
          ],
          [
           "Central District, Taichung",
           "Very good"
          ],
          [
           "North District, Taichung",
           "Good"
          ],
          [
           "Central District, Taichung",
           "Good"
          ],
          [
           "North District, Taichung",
           "Very good"
          ],
          [
           "Xitun District, Taichung",
           "Good"
          ],
          [
           "Xitun District, Taichung",
           "Very good"
          ],
          [
           "Xitun District, Taichung",
           "Very good"
          ],
          [
           "North District, Taichung",
           "Very good"
          ],
          [
           "Central District, Taichung",
           "Very good"
          ],
          [
           "North District, Taichung",
           "Good"
          ],
          [
           "Central District, Taichung",
           "Very good"
          ],
          [
           "West District, Taichung",
           "Very good"
          ],
          [
           "North District, Taichung",
           "Review score"
          ],
          [
           "Beitun District, Taichung",
           "Very good"
          ],
          [
           "Central District, Taichung",
           "Very good"
          ],
          [
           "Xitun District, Taichung",
           "Good"
          ],
          [
           "West District, Taichung",
           "Very good"
          ],
          [
           "Central District, Taichung",
           "Good"
          ],
          [
           "North District, Taichung",
           "Review score"
          ],
          [
           "North District, Taichung",
           "Very good"
          ],
          [
           "Xitun District, Taichung",
           "Review score"
          ],
          [
           "West District, Taichung",
           "Very good"
          ],
          [
           "North District, Taichung",
           "Very good"
          ],
          [
           "North District, Taichung",
           "Very good"
          ],
          [
           "Beitun District, Taichung",
           "Fabulous"
          ],
          [
           "North District, Taichung",
           "Good"
          ],
          [
           "Xitun District, Taichung",
           "Very good"
          ],
          [
           "Nantun District, Taichung",
           "Very good"
          ],
          [
           "Central District, Taichung",
           "Review score"
          ],
          [
           "Xitun District, Taichung",
           "Good"
          ],
          [
           "North District, Taichung",
           "Good"
          ],
          [
           "Xitun District, Taichung",
           "Good"
          ],
          [
           "North District, Taichung",
           "Fabulous"
          ],
          [
           "North District, Taichung",
           "Very good"
          ],
          [
           "West District, Taichung",
           "Very good"
          ],
          [
           "West District, Taichung",
           "Good"
          ],
          [
           "Xitun District, Taichung",
           "Review score"
          ],
          [
           "Xitun District, Taichung",
           "Review score"
          ],
          [
           "Xitun District, Taichung",
           "Fabulous"
          ],
          [
           "East District, Taichung",
           "Good"
          ],
          [
           "North District, Taichung",
           "Very good"
          ],
          [
           "Central District, Taichung",
           "Good"
          ],
          [
           "Beitun District, Taichung",
           "Good"
          ],
          [
           "West District, Taichung",
           "Good"
          ],
          [
           "West District, Taichung",
           "Superb"
          ],
          [
           "Xitun District, Taichung",
           "Very good"
          ],
          [
           "North District, Taichung",
           "Good"
          ],
          [
           "Central District, Taichung",
           "Fabulous"
          ],
          [
           "Xitun District, Taichung",
           "Review score"
          ],
          [
           "Xitun District, Taichung",
           "Very good"
          ],
          [
           "North District, Taichung",
           "Very good"
          ],
          [
           "West District, Taichung",
           "Good"
          ],
          [
           "North District, Taichung",
           "Very good"
          ],
          [
           "Xitun District, Taichung",
           "Good"
          ],
          [
           "Central District, Taichung",
           "Fabulous"
          ],
          [
           "South District, Taichung",
           "Good"
          ],
          [
           "Xitun District, Taichung",
           "Good"
          ],
          [
           "North District, Taichung",
           "Very good"
          ],
          [
           "Xitun District, Taichung",
           "Review score"
          ],
          [
           "Central District, Taichung",
           "Fabulous"
          ],
          [
           "Xitun District, Taichung",
           "Good"
          ],
          [
           "North District, Taichung",
           "Very good"
          ],
          [
           "North District, Taichung",
           "Good"
          ],
          [
           "West District, Taichung",
           "Superb"
          ],
          [
           "Xitun District, Taichung",
           "Good"
          ],
          [
           "North District, Taichung",
           "Fabulous"
          ],
          [
           "Beitun District, Taichung",
           "Very good"
          ],
          [
           "Nantun District, Taichung",
           "Very good"
          ],
          [
           "Beitun District, Taichung",
           "Good"
          ],
          [
           "Xitun District, Taichung",
           "Good"
          ],
          [
           "Central District, Taichung",
           "Good"
          ],
          [
           "Xitun District, Taichung",
           "Review score"
          ],
          [
           "Beitun District, Taichung",
           "Fabulous"
          ],
          [
           "North District, Taichung",
           "Very good"
          ],
          [
           "Xitun District, Taichung",
           "Good"
          ],
          [
           "Xitun District, Taichung",
           "Good"
          ],
          [
           "Xitun District, Taichung",
           "Good"
          ],
          [
           "Xitun District, Taichung",
           "Good"
          ],
          [
           "Xitun District, Taichung",
           "Review score"
          ],
          [
           "Beitun District, Taichung",
           "Good"
          ],
          [
           "Xitun District, Taichung",
           "Good"
          ],
          [
           "Xitun District, Taichung",
           "Review score"
          ],
          [
           "North District, Taichung",
           "Good"
          ],
          [
           "West District, Taichung",
           "Good"
          ],
          [
           "Xitun District, Taichung",
           "Good"
          ],
          [
           "Xitun District, Taichung",
           "Review score"
          ],
          [
           "Nantun District, Taichung",
           "Very good"
          ],
          [
           "West District, Taichung",
           "Review score"
          ],
          [
           "Xitun District, Taichung",
           "Good"
          ],
          [
           "Xitun District, Taichung",
           "Good"
          ],
          [
           "Nantun District, Taichung",
           "Very good"
          ],
          [
           "Beitun District, Taichung",
           "Good"
          ],
          [
           "South District, Taichung",
           "Review score"
          ],
          [
           "Xitun District, Taichung",
           "Good"
          ],
          [
           "North District, Taichung",
           "Good"
          ],
          [
           "Xitun District, Taichung",
           "Good"
          ],
          [
           "Xitun District, Taichung",
           "Good"
          ],
          [
           "Xitun District, Taichung",
           "Good"
          ],
          [
           "East District, Taichung",
           "Review score"
          ],
          [
           "Xitun District, Taichung",
           "Review score"
          ],
          [
           "Beitun District, Taichung",
           "Review score"
          ],
          [
           "Beitun District, Taichung",
           "Good"
          ],
          [
           "Xitun District, Taichung",
           "Good"
          ],
          [
           "East District, Taichung",
           "Good"
          ],
          [
           "Beitun District, Taichung",
           "Review score"
          ],
          [
           "Xitun District, Taichung",
           "Review score"
          ],
          [
           "Central District, Taichung",
           "Very good"
          ],
          [
           "Central District, Taichung",
           "Very good"
          ],
          [
           "Central District, Taichung",
           "Superb"
          ],
          [
           "North District, Taichung",
           "Very good"
          ],
          [
           "Central District, Taichung",
           "Very good"
          ],
          [
           "West District, Taichung",
           "Very good"
          ]
         ],
         "hovertemplate": "<b>%{hovertext}</b><br><br>Price=%{x}<br>Distance (km)=%{y}<br>Location=%{customdata[0]}<br>Comment=%{customdata[1]}<br>Rating=%{marker.color}<extra></extra>",
         "hovertext": [
          "Adagio Hostel",
          "墨鐵會館",
          "一中宿屋",
          "凝萃文旅台中車站店",
          "Kiwi Express Hotel - Zhongqing",
          "P&F Hotel",
          "Forbes Hotel",
          "Taichung Walker",
          "Tonight Home",
          "Hotel Huru House",
          "Allegro Hostel",
          "Lohas fengjia",
          "Trans Inn",
          "采岩汽車旅館",
          "Fengjia Muxia",
          "Sky Tree B&B",
          "Green Hotel - Tea Way",
          "Evergreen Laurel Hotel - Taichung",
          "Windsor Hotel Taichung",
          "一中自在居",
          "旅行家 Affetto Hostel",
          "K. Gold",
          "Spring Rhapsody Hotel",
          "Chance Hotel",
          "Fengjia House",
          "P&F Hotel",
          "一中北極熊",
          "MINI HOTELS (Feng Jia Branch)",
          "Fengjia Muxia",
          "Lè mù",
          "Shin Sei Bashi Hotel",
          "Sparrow Hotel",
          "Spring Rhapsody Hotel",
          "逢甲憶廊",
          "一中自在居",
          "Tempus Hotel",
          "Rin旅宿",
          "逢甲Funky home",
          "Hotelday Taichung",
          "益香閣",
          "Calligraphy Greenway Hotel",
          "Fengjia House",
          "Twinstar Hotel",
          "K. Gold",
          "Slow Town Hotel-Glowing",
          "禾淞津別邸",
          "Ai Lai Fashion Hotel",
          "Miller Inn",
          "Military 75 Hotel",
          "CityInn Hotel Plus - Taichung Station Branch",
          "CHECK inn Taichung Zhongshan",
          "Rin旅宿",
          "Waugh Den Business Hotel",
          "Aeris International Hotel",
          "逢甲憶廊",
          "台中一中街格雷熊",
          "Military 75 Hotel",
          "Guide Hotel Taichung Ziyou",
          "One house 輕旅",
          "Smile 73 Hotel",
          "Taichung Charming City Hotel",
          "G11 Hotel",
          "Hotel Kuei",
          "Yuan Chyau Motel",
          "Jin Man Jia Hotel",
          "墨鐵會館",
          "Happy Inn",
          "Central Land Hotel",
          "Hotel National",
          "Bevel Backpacker Inn",
          "Luxury House",
          "BlueSky Hotel",
          "Mini Travel Inn",
          "Inhouse Hotel Grand",
          "Calligraphy Greenway Hotel",
          "友愛富豪國際大飯店",
          "Hommie Inn",
          "SI Hotel",
          "Ful Won Hotel",
          "Fengjia House",
          "CHECK inn Taichung Wenxin Zhongqing",
          "Taichung Amour Hotel",
          "Stay Hotel - Taichung Zhongqing",
          "Evergreen Laurel Hotel - Taichung",
          "SOF Hotel",
          "Kun Tour",
          "Autumn Willow Hotel",
          "Zhong Ke Hotel",
          "Kiwi Express Hotel - Zhongqing",
          "Slow Town Hotel-Glowing",
          "Hotel Huru House",
          "Spring Rhapsody Hotel",
          "Shin Sei Bashi Hotel",
          "Hotel Dion",
          "Boda Hotel",
          "Jin Man Jia Hotel",
          "Fengjia Hotel Bell",
          "Dream Mansion Hotel",
          "BlueSky Hotel",
          "CHECK inn Taichung Zhongshan",
          "Dream 12 Hotel",
          "Aroma Chew Hotel",
          "Fengjia JinRui Hotel",
          "Kun Tour",
          "Treeart Hotel",
          "SI Hotel",
          "K Hotel - Yizhong",
          "Kiwi Hotel MRT Wenxin Branch (Feng Chia Branch 1)",
          "Maison de Chine Taichung (Pin Chen)",
          "Taichung Box Design Hotels",
          "CHECK inn Taichung Zhongshan",
          "Rin旅宿",
          "Waugh Den Business Hotel",
          "Aeris International Hotel",
          "Moonlight Motel",
          "逢甲憶廊",
          "台中一中街格雷熊",
          "Military 75 Hotel",
          "Guide Hotel Taichung Ziyou",
          "One house 輕旅",
          "Airline Inn Green Park Way",
          "Smile 73 Hotel",
          "Taichung Charming City Hotel",
          "Venice Motel",
          "G11 Hotel",
          "Love Fengjia",
          "Bevel Backpacker Inn",
          "旅行家 Affetto Hostel",
          "合樂商旅 He&Le",
          "K Hotel - Yizhong",
          "Voga Motel",
          "Jin Man Jia Hotel",
          "綠松日旅",
          "Talmud Hotel Gongyuan",
          "The Metro Hotel Taichung",
          "CHECK inn Taichung Qinghai",
          "友愛富豪國際大飯店",
          "台中 晴文旅",
          "Artistic Studio",
          "CHECK inn Express Taichung Fuxing",
          "Yuan Chyau Motel",
          "Happy Inn",
          "Bravo Hotel",
          "一中街旅宿",
          "Fengchia Provence",
          "Ease Motel Taichung",
          "Venice Motel",
          "Taichung Box Design Hotels",
          "Smile 73 Hotel",
          "C U Hotel Taichung",
          "Bravo Hotel",
          "一中街旅宿",
          "Fengchia Provence",
          "Ease Motel Taichung",
          "Venice Motel",
          "Taichung Box Design Hotels",
          "Smile 73 Hotel",
          "C U Hotel Taichung",
          "BlueSky Hotel",
          "Kiwi Express Hotel-Taichung Station II",
          "Jinsha Motel",
          "Maison de Chine Chao Yin Building",
          "Norway Forest Travel hotel 1 Taichung",
          "Fengjia Gift Box Homestay",
          "Elizabeth Hotel",
          "G11 Hotel",
          "Kiwi Express Hotel - Zhongqing",
          "植旅inn",
          "小巷微宿",
          "Aeris International Hotel",
          "長月居",
          "Yi Chung Disney",
          "Ramble Hotel",
          "Migo Hotel",
          "逢甲HAPY HouSE",
          "Yuan Chyau Motel",
          "Haogong Hotel",
          "Miss You House",
          "Shining Motel",
          "Fengjia Gift Box Homestay",
          "Totohai Homestay",
          "植旅inn",
          "Hotel National",
          "Taichung Old F Hotel",
          "Love Fengchia",
          "One house 輕旅",
          "Bevel Backpacker Inn",
          "Eusta Motel",
          "一中小窩馨",
          "Kiwi Express Hotel - Chenggong Rd",
          "Waugh Den Business Hotel",
          "台中 晴文旅",
          "1LI7E Hotel",
          "日映逢甲",
          "Kao Yuan Hotel - Zhong Zheng",
          "OLAH Poshtel - Taichung",
          "逢甲歡樂屋",
          "Ease Motel Taichung",
          "台中一中街格雷熊",
          "Mei Hotel",
          "DLInn Hotel",
          "逢甲榛旅",
          "Green Hotel - Midori",
          "Spring Hotel",
          "Huang Shin Business Hotel-Chung Kang",
          "台中一中街格雷熊",
          "逢甲歡樂屋",
          "Modern Inn",
          "In Fengchia",
          "一中小窩馨",
          "Shining Motel",
          "台中自由行",
          "馬卡龍旅棧含車位可包棟",
          "Totohai Homestay",
          "采岩汽車旅館",
          "Forbidden City Motel",
          "Birdman Motel",
          "CHECK inn Taichung Liming",
          "Kiwi Express Hotel - Chenggong Rd",
          "Love Fengchia",
          "Motel Lin",
          "找駐典",
          "Feng Chia Enjoy",
          "Miss You House",
          "逢甲旅人Inn",
          "Fengchia Bichon B&B",
          "CHECK inn Express Taichung FuXing Hall 2",
          "Birdman Motel",
          "逢甲旅人Inn",
          "All Fun Business Hotel",
          "Felicity Business Hotel",
          "Formosa Corridor Hotel",
          "馬卡龍旅棧含車位可包棟",
          "Greece Mediterranean B&B",
          "Aquarius Motel",
          "Hamilton Hotel",
          "Fengchia Love Heart",
          "Huang Shin Business Hotel-Chung Kang",
          "Forbidden City Motel",
          "Carefree Park",
          "Fudi Hotel",
          "Funja Colorful Hotel",
          "Ren Mei Fashion Hotel",
          "逢甲榛旅",
          "Love Feng Jia Apartment Hotel",
          "Fengjia Jocy House",
          "Zaw Jung Business Hotel",
          "Papa Bear's Guesthouse",
          "Liti Motel",
          "Carefree Park",
          "Fengjia Line Stack",
          "JUNG-ZAW BUSSINESS HOTEL",
          "Liti Motel",
          "Papa Bear's Guesthouse",
          "Mu Pinju Hotel",
          "TG Hostel - stay together",
          "Norden Ruder Hostel Taichung",
          "Getcha Hostel",
          "Backpacker 41 Hostel - Taichung",
          "Mini West Hotel"
         ],
         "legendgroup": "",
         "marker": {
          "color": [
           8.6,
           8.1,
           9.2,
           7.9,
           6.2,
           8.8,
           6.2,
           8.8,
           7.6,
           8.3,
           8.9,
           7.4,
           7.4,
           8.2,
           7.1,
           8.2,
           8.7,
           8.4,
           8.9,
           8.2,
           8.9,
           8.3,
           8.9,
           8,
           6.6,
           8.8,
           8.4,
           8.2,
           7.1,
           7.2,
           8.1,
           8.4,
           8.9,
           8.7,
           8.2,
           7.8,
           8.4,
           7.3,
           7.4,
           7.4,
           7.4,
           6.6,
           7.9,
           8.3,
           8.7,
           9.5,
           7.6,
           8.5,
           8.1,
           9,
           8.5,
           8.4,
           7,
           8.3,
           8.7,
           8.4,
           8.1,
           8.3,
           5.5,
           8.2,
           7.8,
           7.7,
           8.4,
           8.2,
           8,
           8.1,
           8.4,
           8.7,
           8,
           8.7,
           8.4,
           8.3,
           7.5,
           8.8,
           7.4,
           7.9,
           8.4,
           8.2,
           7,
           6.6,
           7.8,
           7.9,
           8.1,
           8.4,
           7.9,
           8.2,
           8.9,
           8.2,
           6.2,
           8.7,
           8.3,
           8.9,
           8.1,
           8.5,
           7.4,
           8,
           7.7,
           8.2,
           8.3,
           8.5,
           9.4,
           9.4,
           8.3,
           8.2,
           8.5,
           8.2,
           8.5,
           7.4,
           7.8,
           8.1,
           8.5,
           8.4,
           7,
           8.3,
           8.1,
           8.7,
           8.4,
           8.1,
           8.3,
           5.5,
           8.8,
           8.2,
           7.8,
           8.1,
           7.7,
           7.1,
           8.7,
           8.9,
           7.8,
           8.5,
           8.2,
           8,
           7.1,
           7,
           7.5,
           8,
           7.9,
           7.7,
           9,
           8.5,
           8.2,
           8.4,
           7.8,
           8,
           7.6,
           8.4,
           8.1,
           8.1,
           8.2,
           7.5,
           7.8,
           8,
           7.6,
           8.4,
           8.1,
           8.1,
           8.2,
           7.5,
           8.3,
           8,
           6.8,
           8.1,
           8.3,
           7.6,
           8,
           7.7,
           6.2,
           8.3,
           6.1,
           8.3,
           8,
           8,
           8.8,
           7.5,
           8.1,
           8.2,
           5.7,
           7.7,
           7.9,
           7.6,
           8.7,
           8.3,
           8,
           7.7,
           6.8,
           5.5,
           8.7,
           7.9,
           8.3,
           7.8,
           7,
           7.7,
           9,
           8,
           7.9,
           8.6,
           5.8,
           8.4,
           8.4,
           7.8,
           8.3,
           7.8,
           8.6,
           7.7,
           7.1,
           8.4,
           5.8,
           8.6,
           7.6,
           8.3,
           7.9,
           9,
           7.2,
           8.7,
           8.2,
           8.2,
           7.9,
           7.3,
           7.8,
           6.8,
           8.6,
           8.2,
           7.3,
           7.7,
           7.4,
           7.7,
           6.9,
           7.9,
           7.4,
           6.5,
           7.9,
           7.2,
           7.2,
           6.8,
           8.1,
           6.5,
           7.1,
           7.1,
           8.2,
           7.2,
           6.3,
           7,
           7.6,
           7.8,
           7.4,
           7.7,
           6.6,
           6.2,
           6.7,
           7.2,
           7.2,
           7.2,
           6.7,
           6.2,
           8.2,
           8,
           9.1,
           8.2,
           8.2,
           8.1
          ],
          "coloraxis": "coloraxis",
          "symbol": "circle"
         },
         "mode": "markers",
         "name": "",
         "orientation": "v",
         "showlegend": false,
         "type": "scatter",
         "x": [
          4229,
          4229,
          4229,
          4229,
          4229,
          4229,
          4229,
          4229,
          4229,
          4229,
          4229,
          4229,
          4229,
          4229,
          4229,
          4229,
          4229,
          4229,
          4229,
          4229,
          4229,
          4229,
          4229,
          4229,
          4229,
          4229,
          4229,
          4229,
          4229,
          4229,
          4229,
          4229,
          4229,
          4229,
          4229,
          4229,
          4229,
          4229,
          4229,
          4229,
          4229,
          4229,
          4229,
          4229,
          4229,
          4229,
          4229,
          4229,
          4229,
          4229,
          4229,
          4229,
          4229,
          4229,
          4229,
          4229,
          4229,
          4229,
          4229,
          4229,
          4229,
          4229,
          4229,
          4229,
          4229,
          4229,
          4229,
          4229,
          4229,
          4229,
          4229,
          4229,
          4229,
          4229,
          4229,
          4229,
          4229,
          4229,
          4229,
          4229,
          4229,
          4229,
          4229,
          4229,
          4229,
          4229,
          4229,
          4229,
          4229,
          4229,
          4229,
          4229,
          4229,
          4229,
          4229,
          4229,
          4229,
          4229,
          4229,
          4229,
          4229,
          4229,
          4229,
          4229,
          4229,
          4229,
          4229,
          4229,
          4229,
          4229,
          4229,
          4229,
          4229,
          4229,
          4229,
          4229,
          4229,
          4229,
          4229,
          4229,
          4229,
          4229,
          4229,
          4229,
          4229,
          4229,
          4229,
          4229,
          4229,
          4229,
          4229,
          4229,
          4229,
          4229,
          4229,
          4229,
          4229,
          4229,
          4229,
          4229,
          4229,
          4229,
          4229,
          4229,
          4229,
          4229,
          4229,
          4229,
          4229,
          4229,
          4229,
          4229,
          4229,
          4229,
          4229,
          4229,
          4229,
          4229,
          4229,
          4229,
          4229,
          4229,
          4229,
          4229,
          4229,
          4229,
          4229,
          4229,
          4229,
          4229,
          4229,
          4229,
          4229,
          4229,
          4229,
          4229,
          4229,
          4229,
          4229,
          4229,
          4229,
          4229,
          4229,
          4229,
          4229,
          4229,
          4229,
          4229,
          4229,
          4229,
          4229,
          4229,
          4229,
          4229,
          4229,
          4229,
          4229,
          4229,
          4229,
          4229,
          4229,
          4229,
          4229,
          4229,
          4229,
          4229,
          4229,
          4229,
          4229,
          4229,
          4229,
          4229,
          4229,
          4229,
          4229,
          4229,
          4229,
          4229,
          4229,
          4229,
          4229,
          4229,
          4229,
          4229,
          4229,
          4229,
          4229,
          4229,
          4229,
          4229,
          4229,
          4229,
          4229,
          4229,
          4229,
          4229,
          4229,
          4229,
          4229,
          4229,
          4229,
          4229,
          4229,
          4229,
          4229,
          4229,
          4229,
          4229,
          4229,
          4229,
          4229,
          4229,
          4229,
          4229,
          4229,
          4229,
          4229,
          4229,
          4229,
          4229
         ],
         "xaxis": "x",
         "y": [
          4,
          3.7,
          4.2,
          4.5,
          2.6,
          4.2,
          3.5,
          450,
          2,
          4.1,
          2,
          2.4,
          5.1,
          4.7,
          2.2,
          1.7,
          4.7,
          1.1,
          3,
          4.1,
          2,
          4,
          3.1,
          4.7,
          1.5,
          4.2,
          4.2,
          2.4,
          2.2,
          1.5,
          4.5,
          4.1,
          3.1,
          2.2,
          4.1,
          1,
          4.2,
          2.1,
          1.3,
          4.4,
          2.2,
          1.5,
          5,
          4,
          4,
          0.5,
          3.1,
          2.7,
          3.2,
          4.9,
          4.2,
          4.2,
          3.4,
          3.5,
          2.2,
          4.2,
          3.2,
          4.4,
          2.3,
          4.3,
          4.7,
          4.5,
          0.9,
          1.6,
          3.5,
          3.7,
          3.6,
          5.3,
          2,
          1.7,
          1.8,
          4.2,
          4.1,
          3.3,
          2.2,
          3.4,
          3.6,
          2.7,
          200,
          1.5,
          2.4,
          4.7,
          3.2,
          1.1,
          4.3,
          2.4,
          3.1,
          4.2,
          2.6,
          4,
          4.1,
          3.1,
          4.5,
          1,
          2.5,
          3.5,
          2.8,
          1.2,
          4.2,
          4.2,
          3.5,
          3.9,
          2.3,
          2.4,
          2,
          2.7,
          4,
          1.9,
          3.8,
          4.2,
          4.2,
          4.2,
          3.4,
          3.5,
          1.3,
          2.2,
          4.2,
          3.2,
          4.4,
          2.3,
          1.7,
          4.3,
          4.7,
          1.5,
          4.5,
          2.3,
          1.7,
          2,
          1.2,
          4,
          3.8,
          3.5,
          4.3,
          3.5,
          3.2,
          1.8,
          3.4,
          3.1,
          1.8,
          2.4,
          1.6,
          3.6,
          4.6,
          4.1,
          2,
          1.8,
          1.5,
          4.2,
          4.3,
          3,
          4.6,
          4.1,
          2,
          1.8,
          1.5,
          4.2,
          4.3,
          3,
          4.2,
          4.5,
          3.4,
          3.9,
          4.7,
          2,
          1.6,
          4.5,
          2.6,
          4.2,
          1.7,
          3.5,
          4.1,
          4.2,
          3.9,
          3.3,
          1.8,
          1.6,
          4.2,
          1.4,
          2.4,
          2,
          3.8,
          4.2,
          2,
          2.2,
          1.4,
          2.3,
          1.7,
          6,
          4.2,
          4.2,
          3.4,
          3.1,
          3,
          2.1,
          3.4,
          4.5,
          2.2,
          1.8,
          4.2,
          2.1,
          2.5,
          1.8,
          4.5,
          4.7,
          1,
          4.2,
          2.2,
          4.5,
          2.1,
          4.2,
          2.4,
          1.8,
          2.3,
          3.8,
          4.7,
          2.2,
          3.3,
          2.4,
          4.2,
          1.4,
          6.8,
          4.2,
          1.6,
          1.4,
          1.5,
          2.2,
          2.5,
          3.3,
          1.5,
          0.7,
          3.1,
          2.4,
          2.3,
          1.3,
          3.1,
          1.8,
          1.4,
          1,
          2.2,
          15,
          3.3,
          1.8,
          3.3,
          1.8,
          2.3,
          1.8,
          4.9,
          2.1,
          3.7,
          15,
          1.1,
          5,
          3.7,
          2.1,
          4.8,
          3.7,
          4.7,
          4.2,
          4.4,
          3.1
         ],
         "yaxis": "y"
        }
       ],
       "layout": {
        "coloraxis": {
         "colorbar": {
          "title": {
           "text": "Rating"
          }
         },
         "colorscale": [
          [
           0,
           "#0d0887"
          ],
          [
           0.1111111111111111,
           "#46039f"
          ],
          [
           0.2222222222222222,
           "#7201a8"
          ],
          [
           0.3333333333333333,
           "#9c179e"
          ],
          [
           0.4444444444444444,
           "#bd3786"
          ],
          [
           0.5555555555555556,
           "#d8576b"
          ],
          [
           0.6666666666666666,
           "#ed7953"
          ],
          [
           0.7777777777777778,
           "#fb9f3a"
          ],
          [
           0.8888888888888888,
           "#fdca26"
          ],
          [
           1,
           "#f0f921"
          ]
         ]
        },
        "legend": {
         "tracegroupgap": 0
        },
        "template": {
         "data": {
          "bar": [
           {
            "error_x": {
             "color": "#2a3f5f"
            },
            "error_y": {
             "color": "#2a3f5f"
            },
            "marker": {
             "line": {
              "color": "#E5ECF6",
              "width": 0.5
             },
             "pattern": {
              "fillmode": "overlay",
              "size": 10,
              "solidity": 0.2
             }
            },
            "type": "bar"
           }
          ],
          "barpolar": [
           {
            "marker": {
             "line": {
              "color": "#E5ECF6",
              "width": 0.5
             },
             "pattern": {
              "fillmode": "overlay",
              "size": 10,
              "solidity": 0.2
             }
            },
            "type": "barpolar"
           }
          ],
          "carpet": [
           {
            "aaxis": {
             "endlinecolor": "#2a3f5f",
             "gridcolor": "white",
             "linecolor": "white",
             "minorgridcolor": "white",
             "startlinecolor": "#2a3f5f"
            },
            "baxis": {
             "endlinecolor": "#2a3f5f",
             "gridcolor": "white",
             "linecolor": "white",
             "minorgridcolor": "white",
             "startlinecolor": "#2a3f5f"
            },
            "type": "carpet"
           }
          ],
          "choropleth": [
           {
            "colorbar": {
             "outlinewidth": 0,
             "ticks": ""
            },
            "type": "choropleth"
           }
          ],
          "contour": [
           {
            "colorbar": {
             "outlinewidth": 0,
             "ticks": ""
            },
            "colorscale": [
             [
              0,
              "#0d0887"
             ],
             [
              0.1111111111111111,
              "#46039f"
             ],
             [
              0.2222222222222222,
              "#7201a8"
             ],
             [
              0.3333333333333333,
              "#9c179e"
             ],
             [
              0.4444444444444444,
              "#bd3786"
             ],
             [
              0.5555555555555556,
              "#d8576b"
             ],
             [
              0.6666666666666666,
              "#ed7953"
             ],
             [
              0.7777777777777778,
              "#fb9f3a"
             ],
             [
              0.8888888888888888,
              "#fdca26"
             ],
             [
              1,
              "#f0f921"
             ]
            ],
            "type": "contour"
           }
          ],
          "contourcarpet": [
           {
            "colorbar": {
             "outlinewidth": 0,
             "ticks": ""
            },
            "type": "contourcarpet"
           }
          ],
          "heatmap": [
           {
            "colorbar": {
             "outlinewidth": 0,
             "ticks": ""
            },
            "colorscale": [
             [
              0,
              "#0d0887"
             ],
             [
              0.1111111111111111,
              "#46039f"
             ],
             [
              0.2222222222222222,
              "#7201a8"
             ],
             [
              0.3333333333333333,
              "#9c179e"
             ],
             [
              0.4444444444444444,
              "#bd3786"
             ],
             [
              0.5555555555555556,
              "#d8576b"
             ],
             [
              0.6666666666666666,
              "#ed7953"
             ],
             [
              0.7777777777777778,
              "#fb9f3a"
             ],
             [
              0.8888888888888888,
              "#fdca26"
             ],
             [
              1,
              "#f0f921"
             ]
            ],
            "type": "heatmap"
           }
          ],
          "heatmapgl": [
           {
            "colorbar": {
             "outlinewidth": 0,
             "ticks": ""
            },
            "colorscale": [
             [
              0,
              "#0d0887"
             ],
             [
              0.1111111111111111,
              "#46039f"
             ],
             [
              0.2222222222222222,
              "#7201a8"
             ],
             [
              0.3333333333333333,
              "#9c179e"
             ],
             [
              0.4444444444444444,
              "#bd3786"
             ],
             [
              0.5555555555555556,
              "#d8576b"
             ],
             [
              0.6666666666666666,
              "#ed7953"
             ],
             [
              0.7777777777777778,
              "#fb9f3a"
             ],
             [
              0.8888888888888888,
              "#fdca26"
             ],
             [
              1,
              "#f0f921"
             ]
            ],
            "type": "heatmapgl"
           }
          ],
          "histogram": [
           {
            "marker": {
             "pattern": {
              "fillmode": "overlay",
              "size": 10,
              "solidity": 0.2
             }
            },
            "type": "histogram"
           }
          ],
          "histogram2d": [
           {
            "colorbar": {
             "outlinewidth": 0,
             "ticks": ""
            },
            "colorscale": [
             [
              0,
              "#0d0887"
             ],
             [
              0.1111111111111111,
              "#46039f"
             ],
             [
              0.2222222222222222,
              "#7201a8"
             ],
             [
              0.3333333333333333,
              "#9c179e"
             ],
             [
              0.4444444444444444,
              "#bd3786"
             ],
             [
              0.5555555555555556,
              "#d8576b"
             ],
             [
              0.6666666666666666,
              "#ed7953"
             ],
             [
              0.7777777777777778,
              "#fb9f3a"
             ],
             [
              0.8888888888888888,
              "#fdca26"
             ],
             [
              1,
              "#f0f921"
             ]
            ],
            "type": "histogram2d"
           }
          ],
          "histogram2dcontour": [
           {
            "colorbar": {
             "outlinewidth": 0,
             "ticks": ""
            },
            "colorscale": [
             [
              0,
              "#0d0887"
             ],
             [
              0.1111111111111111,
              "#46039f"
             ],
             [
              0.2222222222222222,
              "#7201a8"
             ],
             [
              0.3333333333333333,
              "#9c179e"
             ],
             [
              0.4444444444444444,
              "#bd3786"
             ],
             [
              0.5555555555555556,
              "#d8576b"
             ],
             [
              0.6666666666666666,
              "#ed7953"
             ],
             [
              0.7777777777777778,
              "#fb9f3a"
             ],
             [
              0.8888888888888888,
              "#fdca26"
             ],
             [
              1,
              "#f0f921"
             ]
            ],
            "type": "histogram2dcontour"
           }
          ],
          "mesh3d": [
           {
            "colorbar": {
             "outlinewidth": 0,
             "ticks": ""
            },
            "type": "mesh3d"
           }
          ],
          "parcoords": [
           {
            "line": {
             "colorbar": {
              "outlinewidth": 0,
              "ticks": ""
             }
            },
            "type": "parcoords"
           }
          ],
          "pie": [
           {
            "automargin": true,
            "type": "pie"
           }
          ],
          "scatter": [
           {
            "fillpattern": {
             "fillmode": "overlay",
             "size": 10,
             "solidity": 0.2
            },
            "type": "scatter"
           }
          ],
          "scatter3d": [
           {
            "line": {
             "colorbar": {
              "outlinewidth": 0,
              "ticks": ""
             }
            },
            "marker": {
             "colorbar": {
              "outlinewidth": 0,
              "ticks": ""
             }
            },
            "type": "scatter3d"
           }
          ],
          "scattercarpet": [
           {
            "marker": {
             "colorbar": {
              "outlinewidth": 0,
              "ticks": ""
             }
            },
            "type": "scattercarpet"
           }
          ],
          "scattergeo": [
           {
            "marker": {
             "colorbar": {
              "outlinewidth": 0,
              "ticks": ""
             }
            },
            "type": "scattergeo"
           }
          ],
          "scattergl": [
           {
            "marker": {
             "colorbar": {
              "outlinewidth": 0,
              "ticks": ""
             }
            },
            "type": "scattergl"
           }
          ],
          "scattermapbox": [
           {
            "marker": {
             "colorbar": {
              "outlinewidth": 0,
              "ticks": ""
             }
            },
            "type": "scattermapbox"
           }
          ],
          "scatterpolar": [
           {
            "marker": {
             "colorbar": {
              "outlinewidth": 0,
              "ticks": ""
             }
            },
            "type": "scatterpolar"
           }
          ],
          "scatterpolargl": [
           {
            "marker": {
             "colorbar": {
              "outlinewidth": 0,
              "ticks": ""
             }
            },
            "type": "scatterpolargl"
           }
          ],
          "scatterternary": [
           {
            "marker": {
             "colorbar": {
              "outlinewidth": 0,
              "ticks": ""
             }
            },
            "type": "scatterternary"
           }
          ],
          "surface": [
           {
            "colorbar": {
             "outlinewidth": 0,
             "ticks": ""
            },
            "colorscale": [
             [
              0,
              "#0d0887"
             ],
             [
              0.1111111111111111,
              "#46039f"
             ],
             [
              0.2222222222222222,
              "#7201a8"
             ],
             [
              0.3333333333333333,
              "#9c179e"
             ],
             [
              0.4444444444444444,
              "#bd3786"
             ],
             [
              0.5555555555555556,
              "#d8576b"
             ],
             [
              0.6666666666666666,
              "#ed7953"
             ],
             [
              0.7777777777777778,
              "#fb9f3a"
             ],
             [
              0.8888888888888888,
              "#fdca26"
             ],
             [
              1,
              "#f0f921"
             ]
            ],
            "type": "surface"
           }
          ],
          "table": [
           {
            "cells": {
             "fill": {
              "color": "#EBF0F8"
             },
             "line": {
              "color": "white"
             }
            },
            "header": {
             "fill": {
              "color": "#C8D4E3"
             },
             "line": {
              "color": "white"
             }
            },
            "type": "table"
           }
          ]
         },
         "layout": {
          "annotationdefaults": {
           "arrowcolor": "#2a3f5f",
           "arrowhead": 0,
           "arrowwidth": 1
          },
          "autotypenumbers": "strict",
          "coloraxis": {
           "colorbar": {
            "outlinewidth": 0,
            "ticks": ""
           }
          },
          "colorscale": {
           "diverging": [
            [
             0,
             "#8e0152"
            ],
            [
             0.1,
             "#c51b7d"
            ],
            [
             0.2,
             "#de77ae"
            ],
            [
             0.3,
             "#f1b6da"
            ],
            [
             0.4,
             "#fde0ef"
            ],
            [
             0.5,
             "#f7f7f7"
            ],
            [
             0.6,
             "#e6f5d0"
            ],
            [
             0.7,
             "#b8e186"
            ],
            [
             0.8,
             "#7fbc41"
            ],
            [
             0.9,
             "#4d9221"
            ],
            [
             1,
             "#276419"
            ]
           ],
           "sequential": [
            [
             0,
             "#0d0887"
            ],
            [
             0.1111111111111111,
             "#46039f"
            ],
            [
             0.2222222222222222,
             "#7201a8"
            ],
            [
             0.3333333333333333,
             "#9c179e"
            ],
            [
             0.4444444444444444,
             "#bd3786"
            ],
            [
             0.5555555555555556,
             "#d8576b"
            ],
            [
             0.6666666666666666,
             "#ed7953"
            ],
            [
             0.7777777777777778,
             "#fb9f3a"
            ],
            [
             0.8888888888888888,
             "#fdca26"
            ],
            [
             1,
             "#f0f921"
            ]
           ],
           "sequentialminus": [
            [
             0,
             "#0d0887"
            ],
            [
             0.1111111111111111,
             "#46039f"
            ],
            [
             0.2222222222222222,
             "#7201a8"
            ],
            [
             0.3333333333333333,
             "#9c179e"
            ],
            [
             0.4444444444444444,
             "#bd3786"
            ],
            [
             0.5555555555555556,
             "#d8576b"
            ],
            [
             0.6666666666666666,
             "#ed7953"
            ],
            [
             0.7777777777777778,
             "#fb9f3a"
            ],
            [
             0.8888888888888888,
             "#fdca26"
            ],
            [
             1,
             "#f0f921"
            ]
           ]
          },
          "colorway": [
           "#636efa",
           "#EF553B",
           "#00cc96",
           "#ab63fa",
           "#FFA15A",
           "#19d3f3",
           "#FF6692",
           "#B6E880",
           "#FF97FF",
           "#FECB52"
          ],
          "font": {
           "color": "#2a3f5f"
          },
          "geo": {
           "bgcolor": "white",
           "lakecolor": "white",
           "landcolor": "#E5ECF6",
           "showlakes": true,
           "showland": true,
           "subunitcolor": "white"
          },
          "hoverlabel": {
           "align": "left"
          },
          "hovermode": "closest",
          "mapbox": {
           "style": "light"
          },
          "paper_bgcolor": "white",
          "plot_bgcolor": "#E5ECF6",
          "polar": {
           "angularaxis": {
            "gridcolor": "white",
            "linecolor": "white",
            "ticks": ""
           },
           "bgcolor": "#E5ECF6",
           "radialaxis": {
            "gridcolor": "white",
            "linecolor": "white",
            "ticks": ""
           }
          },
          "scene": {
           "xaxis": {
            "backgroundcolor": "#E5ECF6",
            "gridcolor": "white",
            "gridwidth": 2,
            "linecolor": "white",
            "showbackground": true,
            "ticks": "",
            "zerolinecolor": "white"
           },
           "yaxis": {
            "backgroundcolor": "#E5ECF6",
            "gridcolor": "white",
            "gridwidth": 2,
            "linecolor": "white",
            "showbackground": true,
            "ticks": "",
            "zerolinecolor": "white"
           },
           "zaxis": {
            "backgroundcolor": "#E5ECF6",
            "gridcolor": "white",
            "gridwidth": 2,
            "linecolor": "white",
            "showbackground": true,
            "ticks": "",
            "zerolinecolor": "white"
           }
          },
          "shapedefaults": {
           "line": {
            "color": "#2a3f5f"
           }
          },
          "ternary": {
           "aaxis": {
            "gridcolor": "white",
            "linecolor": "white",
            "ticks": ""
           },
           "baxis": {
            "gridcolor": "white",
            "linecolor": "white",
            "ticks": ""
           },
           "bgcolor": "#E5ECF6",
           "caxis": {
            "gridcolor": "white",
            "linecolor": "white",
            "ticks": ""
           }
          },
          "title": {
           "x": 0.05
          },
          "xaxis": {
           "automargin": true,
           "gridcolor": "white",
           "linecolor": "white",
           "ticks": "",
           "title": {
            "standoff": 15
           },
           "zerolinecolor": "white",
           "zerolinewidth": 2
          },
          "yaxis": {
           "automargin": true,
           "gridcolor": "white",
           "linecolor": "white",
           "ticks": "",
           "title": {
            "standoff": 15
           },
           "zerolinecolor": "white",
           "zerolinewidth": 2
          }
         }
        },
        "title": {
         "text": "Hotel Price and Distance Scatter Plot"
        },
        "xaxis": {
         "anchor": "y",
         "domain": [
          0,
          1
         ],
         "title": {
          "text": "Price"
         }
        },
        "yaxis": {
         "anchor": "x",
         "domain": [
          0,
          1
         ],
         "title": {
          "text": "Distance (km)"
         }
        }
       }
      }
     },
     "metadata": {},
     "output_type": "display_data"
    }
   ],
   "source": [
    "df_plot = df.dropna(subset=['Price', 'Distance', 'Rating'])\n",
    "\n",
    "# Create the scatter plot\n",
    "fig = px.scatter(df_plot, x='Price', y='Distance', color='Rating', hover_name=\"Name\" ,hover_data=['Location', 'Comment'],\n",
    "                 labels={\"Price\": \"Price\", \"Distance\": \"Distance (km)\", \"Rating\": \"Rating\"},\n",
    "                 title=\"Hotel Price and Distance Scatter Plot\")\n",
    "\n",
    "# Show the plot\n",
    "fig.show()"
   ]
  }
 ],
 "metadata": {
  "kernelspec": {
   "display_name": "Python 3",
   "language": "python",
   "name": "python3"
  },
  "language_info": {
   "codemirror_mode": {
    "name": "ipython",
    "version": 3
   },
   "file_extension": ".py",
   "mimetype": "text/x-python",
   "name": "python",
   "nbconvert_exporter": "python",
   "pygments_lexer": "ipython3",
   "version": "3.9.13"
  }
 },
 "nbformat": 4,
 "nbformat_minor": 2
}
