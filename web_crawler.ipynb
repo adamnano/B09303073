{
 "cells": [
  {
   "cell_type": "code",
   "execution_count": null,
   "metadata": {},
   "outputs": [],
   "source": [
    "# imports\n",
    "import requests\n",
    "from bs4 import BeautifulSoup\n",
    "import pandas as pd\n",
    "from datetime import datetime\n",
    "import random\n",
    "import time\n",
    "import numpy as np"
   ]
  },
  {
   "cell_type": "code",
   "execution_count": 8,
   "metadata": {},
   "outputs": [
    {
     "name": "stdout",
     "output_type": "stream",
     "text": [
      "0\n",
      "25\n",
      "50\n",
      "75\n",
      "100\n",
      "125\n",
      "150\n",
      "175\n",
      "200\n",
      "225\n",
      "250\n",
      "275\n",
      "                                Name                    Location     Price  \\\n",
      "0                      Adagio Hostel  Central District, Taichung  No Price   \n",
      "1                               墨鐵會館  Central District, Taichung  No Price   \n",
      "2              Green Hotel - Tea Way  Central District, Taichung  No Price   \n",
      "3                       Chance Hotel  Central District, Taichung  No Price   \n",
      "4                          凝萃文旅台中車站店  Central District, Taichung  No Price   \n",
      "..                               ...                         ...       ...   \n",
      "255        TG Hostel - stay together  Central District, Taichung  No Price   \n",
      "256                    Getcha Hostel    North District, Taichung  No Price   \n",
      "257     Norden Ruder Hostel Taichung  Central District, Taichung  No Price   \n",
      "258                  Mini West Hotel     West District, Taichung  No Price   \n",
      "259  Backpacker 41 Hostel - Taichung  Central District, Taichung  No Price   \n",
      "\n",
      "    Rating            Distance    Comment  \n",
      "0      8.6    4 km from centre   Fabulous  \n",
      "1      8.1  3.7 km from centre  Very good  \n",
      "2      8.7  4.7 km from centre   Fabulous  \n",
      "3      8.0  4.7 km from centre  Very good  \n",
      "4      7.9  4.5 km from centre       Good  \n",
      "..     ...                 ...        ...  \n",
      "255    8.0  3.7 km from centre  Very good  \n",
      "256    8.2  4.2 km from centre  Very good  \n",
      "257    9.1  4.7 km from centre     Superb  \n",
      "258    8.1  3.1 km from centre  Very good  \n",
      "259    8.2  4.4 km from centre  Very good  \n",
      "\n",
      "[260 rows x 6 columns]\n"
     ]
    }
   ],
   "source": [
    "#STEP 1\n",
    "\n",
    "\n",
    "import requests\n",
    "from bs4 import BeautifulSoup\n",
    "import pandas as pd\n",
    "from datetime import datetime\n",
    "import random\n",
    "import time\n",
    "\n",
    "def fetch_hotel_data(city, checkin_date, checkout_date):\n",
    "    checkin_date = datetime.strptime(checkin_date, \"%Y-%m-%d\").strftime(\"%Y-%m-%d\")\n",
    "    checkout_date = datetime.strptime(checkout_date, \"%Y-%m-%d\").strftime(\"%Y-%m-%d\")\n",
    "\n",
    "    headers = {\n",
    "        #\"User-Agent\": \"Mozilla/5.0 (Windows NT 10.0; Win64; x64) AppleWebKit/537.36 (KHTML, like Gecko) Chrome/58.0.3029.110 Safari/537.3\"\n",
    "        'User-Agent': 'Mozilla/5.0 (Macintosh; Intel Mac OS X 10_15_7) AppleWebKit/537.36 (KHTML, like Gecko) Chrome/114.0.0.0 Safari/537.36',\n",
    "        'Accept-Language': 'en-US, en;q=0.5'\n",
    "    }\n",
    "\n",
    "    hotels = []\n",
    "\n",
    "    page = 0\n",
    "\n",
    "    while True:\n",
    "        # Update URL with the current page number\n",
    "        offset = page * 25\n",
    "        #location = \"Taichung\"\n",
    "        #base_url = 'https://www.booking.com/searchresults.html?ss={}&checkin_year_month_monthday={}&checkout_year_month_monthday={}&rows=25&offset={}'\n",
    "        base_url = \"https://www.booking.com/searchresults.en-gb.html?ss={}&checkin={}&checkout={}&offset={}\"\n",
    "        # Fetch the page content\n",
    "        url = base_url.format(city, checkin_date, checkout_date, offset)\n",
    "        print(offset)\n",
    "        #print(url)\n",
    "        response = requests.get(url, headers=headers)\n",
    "        #print(response.status_code)\n",
    "        #time.sleep(0.2)\n",
    "        #print(response.status_code)\n",
    "        soup = BeautifulSoup(response.content, 'html.parser')\n",
    "        #time.sleep(0.2)\n",
    "        information = soup.find('h1', class_='f6431b446c d5f78961c3').get_text(strip=True) if soup.find('h1', class_='f6431b446c d5f78961c3') else \"No Information\"\n",
    "        if information == \"No Information\":\n",
    "            break\n",
    "        # else:\n",
    "        #     print(information)\n",
    "\n",
    "        # Extract hotel data\n",
    "        hotel_boxes = soup.find_all(\"div\", class_=\"c82435a4b8 a178069f51 a6ae3c2b40 a18aeea94d d794b7a0f7 f53e278e95 c6710787a4\")  # Update with the correct class name\n",
    "        #print(hotel_boxes)\n",
    "\n",
    "        if hotel_boxes == []:\n",
    "            break  # Break if no hotels are found (end of pages)\n",
    "\n",
    "            \n",
    "        for hotel_box in hotel_boxes:\n",
    "            name = hotel_box.find('div', class_='f6431b446c a15b38c233').get_text(strip=True) if hotel_box.find('div', class_='f6431b446c a15b38c233') else \"No Name\"\n",
    "            location = hotel_box.find('span', class_='aee5343fdb def9bc142a').get_text(strip=True) if hotel_box.find('span', class_='aee5343fdb def9bc142a') else \"No Location\"\n",
    "\n",
    "            price = hotel_box.find(\"div\", xpath=\"/html/body/div[5]/div/div[4]/div/div[2]/div[3]/div[2]/div[2]/div[3]/div[38]/div[1]/div[2]/div/div[2]/div[2]/div/div[1]/span/div/div[1]/span[1]\").text.get_text(strip=True) if hotel_box.find(\"div\", xpath=\"/html/body/div[5]/div/div[4]/div/div[2]/div[3]/div[2]/div[2]/div[3]/div[38]/div[1]/div[2]/div/div[2]/div[2]/div/div[1]/span/div/div[1]/span[1]\") else \"No Price\"\n",
    "\n",
    "            rating = hotel_box.find(\"div\", class_=\"a3b8729ab1 d86cee9b25\").get_text(strip=True) if hotel_box.find(\"div\", class_=\"a3b8729ab1 d86cee9b25\") else \"No Rating\"\n",
    "            distance = hotel_box.find(\"span\", {\"data-testid\": \"distance\"}).get_text(strip=True) if hotel_box.find(\"span\", {\"data-testid\": \"distance\"}) else \"No Distance\"\n",
    "            comment = hotel_box.find('div', class_='a3b8729ab1 e6208ee469 cb2cbb3ccb').get_text(strip=True) if hotel_box.find('div', class_='a3b8729ab1 e6208ee469 cb2cbb3ccb') else \"No Comment\"\n",
    "\n",
    "            #print(name)\n",
    "            hotels.append({\"Name\": name, \"Location\": location, \"Price\": price, \"Rating\": rating, \"Distance\": distance, \"Comment\": comment})\n",
    "\n",
    "        page += 1\n",
    "\n",
    "    return pd.DataFrame(hotels)\n",
    "\n",
    "# Example usage\n",
    "df = fetch_hotel_data(\"Taichung\", \"2023-12-15\", \"2023-12-18\")\n",
    "print(df)\n"
   ]
  },
  {
   "cell_type": "code",
   "execution_count": 9,
   "metadata": {},
   "outputs": [
    {
     "name": "stdout",
     "output_type": "stream",
     "text": [
      "Done\n"
     ]
    }
   ],
   "source": [
    "#STEP 2\n",
    "\n"
   ]
  },
  {
   "cell_type": "code",
   "execution_count": null,
   "metadata": {},
   "outputs": [],
   "source": []
  }
 ],
 "metadata": {
  "kernelspec": {
   "display_name": "Python 3",
   "language": "python",
   "name": "python3"
  },
  "language_info": {
   "codemirror_mode": {
    "name": "ipython",
    "version": 3
   },
   "file_extension": ".py",
   "mimetype": "text/x-python",
   "name": "python",
   "nbconvert_exporter": "python",
   "pygments_lexer": "ipython3",
   "version": "3.9.13"
  }
 },
 "nbformat": 4,
 "nbformat_minor": 2
}
